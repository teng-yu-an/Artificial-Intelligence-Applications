{
  "nbformat": 4,
  "nbformat_minor": 0,
  "metadata": {
    "colab": {
      "provenance": [],
      "authorship_tag": "ABX9TyNBC13Wdui4Hf9BgFCW69Zv",
      "include_colab_link": true
    },
    "kernelspec": {
      "name": "python3",
      "display_name": "Python 3"
    },
    "language_info": {
      "name": "python"
    }
  },
  "cells": [
    {
      "cell_type": "markdown",
      "metadata": {
        "id": "view-in-github",
        "colab_type": "text"
      },
      "source": [
        "<a href=\"https://colab.research.google.com/github/teng-yu-an/Text-Mining-of-ESG/blob/main/%E6%96%87%E5%AD%97%E6%8E%A2%E5%8B%98_%E9%87%91%E8%9E%8D%E6%A5%AD_ESG_%E6%96%B0%E8%81%9E%E7%A8%BF.ipynb\" target=\"_parent\"><img src=\"https://colab.research.google.com/assets/colab-badge.svg\" alt=\"Open In Colab\"/></a>"
      ]
    },
    {
      "cell_type": "markdown",
      "source": [
        "本專案挑了幾間金融業的官網上ESG 的相關新聞稿做文字探勘。\n",
        "\n",
        "經過爬蟲將各家幾篇新聞稿的文字爬下來，並做頻詞、關鍵字的分析，\n",
        "藉以了解各家目前發展ESG 的策略方向，以及所反映的企業文化，或許可以作為面試該公司的參考方向。\n",
        "\n",
        "\n",
        "\n",
        "`註：ESG 分別是環境保護（E，Environmental）、社會責任（S，Social）以及公司治理（G，governance）的縮寫，是一種新型態評估企業的數據與指標，ESG代表的是企業社會責任，許多企業或投資人會將ESG 評分，視為評估一間企業是否永續經營重要的指標及投資決策。`"
      ],
      "metadata": {
        "id": "TArl6F1qjZve"
      }
    },
    {
      "cell_type": "code",
      "execution_count": null,
      "metadata": {
        "id": "zbQyedcPesYP"
      },
      "outputs": [],
      "source": [
        "import numpy as np\n",
        "import pandas as pd\n",
        "import requests\n",
        "from bs4 import BeautifulSoup"
      ]
    },
    {
      "cell_type": "markdown",
      "source": [
        "### **step1: 爬蟲**"
      ],
      "metadata": {
        "id": "Gk-Spr1qSnpi"
      }
    },
    {
      "cell_type": "markdown",
      "source": [
        "使用requests, BeautifulSoup 將網頁上新聞稿的文字內容爬下來，並去除標點符號後，將每篇新聞稿的文字內容以逗點分割存入list \n",
        "\n"
      ],
      "metadata": {
        "id": "mm2EArzmpFjH"
      }
    },
    {
      "cell_type": "markdown",
      "source": [
        "1. 爬取玉山金控 ESG 新聞稿 4 篇"
      ],
      "metadata": {
        "id": "6V7JQDLIpoey"
      }
    },
    {
      "cell_type": "code",
      "source": [
        "url = ['https://www.esunfhc.com/zh-tw/news-center/news-center/news?previewItemID={9765EFDF-E3EB-451D-B09C-B24506B6860F}&filter={99812C02-BA70-4D57-8203-AF374D8DB2E5}&range=&previewType=news',\n",
        "       'https://www.esunfhc.com/zh-tw/news-center/news-center/news?previewItemID={1737F282-3BD9-4FC3-B9BC-343D92E60E0F}&filter={99812C02-BA70-4D57-8203-AF374D8DB2E5}&range=&previewType=news',\n",
        "       'https://www.esunfhc.com/zh-tw/news-center/news-center/news?previewItemID={43B36B5C-2643-4BB1-8D69-416BD2303552}&filter={99812C02-BA70-4D57-8203-AF374D8DB2E5}&range=&previewType=news',\n",
        "       'https://www.esunfhc.com/zh-tw/news-center/news-center/news?previewItemID={FD09652C-E839-4AFD-B826-1D182B99ECA7}&filter={99812C02-BA70-4D57-8203-AF374D8DB2E5}&range=&previewType=news']\n",
        "\n",
        "def GetText(url: str) -> str:\n",
        "    res = requests.get(url)\n",
        "    soup = BeautifulSoup(res.text,\"lxml\")\n",
        "    content_get = soup.select(\".longContent\")\n",
        "    text_list = []\n",
        "    for p in content_get:\n",
        "      text_list.append(p.text.replace('[^\\w\\s]','').replace('／',\"\").replace('《','').replace('》','').replace('，','').replace('。','').replace('「','').replace('」','').replace('（','').replace('）','').replace('！','').replace('？','').replace('、','').replace('\\r','').replace('…','').replace('：','').replace('\\n',''))\n",
        "      text_list = ','.join(text_list)\n",
        "    return text_list\n",
        "\n",
        "esun_list = []\n",
        "for i in url:\n",
        "  esun_list.append(GetText(i))"
      ],
      "metadata": {
        "id": "jJEYjrsL-Ah3"
      },
      "execution_count": null,
      "outputs": []
    },
    {
      "cell_type": "markdown",
      "source": [
        "2. 爬取國泰金控 ESG 新聞稿 6 篇\n",
        "\n"
      ],
      "metadata": {
        "id": "nq8HjgIXpuKd"
      }
    },
    {
      "cell_type": "code",
      "source": [
        "url = ['https://www.cathayholdings.com/holdings/information-centre/intro/latest-news/detail?news=Q98kdWnXrUGNfla0RRop0Q',\n",
        "       'https://www.cathayholdings.com/holdings/information-centre/intro/latest-news/detail?news=MBTbMZrIXUes-UA0ssj0Dw',\n",
        "       'https://www.cathayholdings.com/holdings/information-centre/intro/latest-news/detail?news=vuq-xD3dC0G6wQ5c6CDfhg',\n",
        "       'https://www.cathayholdings.com/holdings/information-centre/intro/latest-news/detail?news=EjDqZLCMpUOBD9Y0QPyU1A',\n",
        "       'https://www.cathayholdings.com/holdings/information-centre/intro/latest-news/detail?news=ZBow5uxs50eBNHz450CsPw',\n",
        "       'https://www.cathayholdings.com/holdings/information-centre/intro/latest-news/detail?news=qfU5mN6PHU-Y6QtnbWyPBg']\n",
        "\n",
        "def GetText_Cathay(url: str) -> str:\n",
        "    res = requests.get(url)\n",
        "    soup = BeautifulSoup(res.text,\"lxml\")\n",
        "    content_get = soup.select(\".section-content\")\n",
        "    text_list = []\n",
        "    for p in content_get:\n",
        "      text_list.append(p.text.replace('[^\\w\\s]','').replace('／',\"\").replace('《','').replace('》','').replace('，','').replace('。','').replace('「','').replace('」','').replace('（','').replace('）','').replace('！','').replace('？','').replace('、','').replace('\\r','').replace('…','').replace('：','').replace('\\n',''))\n",
        "      text_list = ','.join(text_list)\n",
        "    return text_list\n",
        "  \n",
        "cathay_list = []\n",
        "for i in url:\n",
        "  cathay_list.append(GetText_Cathay(i))"
      ],
      "metadata": {
        "id": "xj5vTmAIKtbC"
      },
      "execution_count": null,
      "outputs": []
    },
    {
      "cell_type": "markdown",
      "source": [
        "3. 爬取元大金控 ESG 新聞稿新聞稿 6 篇"
      ],
      "metadata": {
        "id": "aisca_UOqHMB"
      }
    },
    {
      "cell_type": "code",
      "source": [
        "url = ['https://www.yuanta.com/TW/News-and-Media/ESG-Press-Releases/Detail?id=4b952683-621d-4b16-afbf-bbd4673e6470',\n",
        "       'https://www.yuanta.com/TW/News-and-Media/ESG-Press-Releases/Detail?id=ff72b0f5-6794-4562-99b3-051cb604da82',\n",
        "       'https://www.yuanta.com/TW/News-and-Media/ESG-Press-Releases/Detail?id=cc782e4b-231e-47df-883f-9ec702d07ece',\n",
        "       'https://www.yuanta.com/TW/News-and-Media/ESG-Press-Releases/Detail?id=9ee7abc7-a3e4-4126-8fb8-4ba0064d9317',\n",
        "       'https://www.yuanta.com/TW/News-and-Media/ESG-Press-Releases/Detail?id=1fee497d-ca79-47e2-8682-3df26a57e35b',\n",
        "       'https://www.yuanta.com/TW/News-and-Media/ESG-Press-Releases/Detail?id=347af8c7-1ffe-424a-bded-173a8bd06a17']\n",
        "\n",
        "def GetText_Yuanta(url: str) -> str:\n",
        "    res = requests.get(url)\n",
        "    soup = BeautifulSoup(res.text,\"lxml\")\n",
        "    content_get = soup.select(\".article\")\n",
        "    text_list = []\n",
        "    for p in content_get:\n",
        "      text_list.append(p.text.replace('[^\\w\\s]','').replace('／',\"\").replace('《','').replace('》','').replace('，','').replace('。','').replace('「','').replace('」','').replace('（','').replace('）','').replace('！','').replace('？','').replace('、','').replace('\\r','').replace('…','').replace('：','').replace('\\n',''))\n",
        "      text_list = ','.join(text_list)\n",
        "    return text_list\n",
        "  \n",
        "yuanta_list = []\n",
        "for i in url:\n",
        "  yuanta_list.append(GetText_Yuanta(i))"
      ],
      "metadata": {
        "id": "At-PATLaKtSI"
      },
      "execution_count": null,
      "outputs": []
    },
    {
      "cell_type": "markdown",
      "source": [
        "### **step2: 前處理--斷詞、排除停用詞，整理為 Corpus**"
      ],
      "metadata": {
        "id": "kdRECnvzTN0Y"
      }
    },
    {
      "cell_type": "markdown",
      "source": [
        "使用 opencc 將簡體字轉繁體字，再用 nltk 去除停用詞，如一天、不如、之前⋯⋯"
      ],
      "metadata": {
        "id": "3bCASYClqT09"
      }
    },
    {
      "cell_type": "code",
      "source": [
        "!pip install opencc\n",
        "from opencc import OpenCC\n",
        "cc = OpenCC('s2t') # 簡體字轉繁體字"
      ],
      "metadata": {
        "colab": {
          "base_uri": "https://localhost:8080/"
        },
        "id": "hN6nWN8iCELQ",
        "outputId": "007b6605-edea-4d69-ffa3-502776c7e1f9"
      },
      "execution_count": null,
      "outputs": [
        {
          "output_type": "stream",
          "name": "stdout",
          "text": [
            "Looking in indexes: https://pypi.org/simple, https://us-python.pkg.dev/colab-wheels/public/simple/\n",
            "Requirement already satisfied: opencc in /usr/local/lib/python3.7/dist-packages (1.1.4)\n"
          ]
        }
      ]
    },
    {
      "cell_type": "code",
      "source": [
        "import nltk\n",
        "from nltk.corpus import stopwords\n",
        "nltk.download('stopwords')\n",
        "stopWords = stopwords.words('chinese')\n",
        "stopWords = [cc.convert(word) for word in stopWords]"
      ],
      "metadata": {
        "colab": {
          "base_uri": "https://localhost:8080/"
        },
        "id": "TUmP3aEzDAJw",
        "outputId": "27624e28-452f-4fca-8a32-ae0fe3e9b6af"
      },
      "execution_count": null,
      "outputs": [
        {
          "output_type": "stream",
          "name": "stderr",
          "text": [
            "[nltk_data] Downloading package stopwords to /root/nltk_data...\n",
            "[nltk_data]   Package stopwords is already up-to-date!\n"
          ]
        }
      ]
    },
    {
      "cell_type": "markdown",
      "source": [
        "使用 jieba 將文本進行斷詞，下載斷詞的字典"
      ],
      "metadata": {
        "id": "5bVR1W7mrhxK"
      }
    },
    {
      "cell_type": "code",
      "source": [
        "!pip install jieba\n",
        "import jieba\n",
        "!wget 'https://raw.githubusercontent.com/fxsjy/jieba/master/extra_dict/dict.txt.big'\n",
        "jieba.set_dictionary('dict.txt.big')"
      ],
      "metadata": {
        "colab": {
          "base_uri": "https://localhost:8080/"
        },
        "id": "1XHqQOWQiCGY",
        "outputId": "252bc309-3069-4e56-ac46-4605eb2e138b"
      },
      "execution_count": null,
      "outputs": [
        {
          "output_type": "stream",
          "name": "stdout",
          "text": [
            "Looking in indexes: https://pypi.org/simple, https://us-python.pkg.dev/colab-wheels/public/simple/\n",
            "Requirement already satisfied: jieba in /usr/local/lib/python3.7/dist-packages (0.42.1)\n",
            "--2022-11-14 16:27:20--  https://raw.githubusercontent.com/fxsjy/jieba/master/extra_dict/dict.txt.big\n",
            "Resolving raw.githubusercontent.com (raw.githubusercontent.com)... 185.199.108.133, 185.199.109.133, 185.199.110.133, ...\n",
            "Connecting to raw.githubusercontent.com (raw.githubusercontent.com)|185.199.108.133|:443... connected.\n",
            "HTTP request sent, awaiting response... 200 OK\n",
            "Length: 8583143 (8.2M) [text/plain]\n",
            "Saving to: ‘dict.txt.big.1’\n",
            "\n",
            "dict.txt.big.1      100%[===================>]   8.18M  --.-KB/s    in 0.07s   \n",
            "\n",
            "2022-11-14 16:27:20 (123 MB/s) - ‘dict.txt.big.1’ saved [8583143/8583143]\n",
            "\n"
          ]
        }
      ]
    },
    {
      "cell_type": "markdown",
      "source": [
        "將三家新聞稿文字使用 jieba.lcut 斷詞後排除停用詞（Stop Words），分詞結果以空白連接\n",
        "\n",
        "esun_content, cathay_content, yuanta_content 即為 Corpus，我自己理解為已斷詞的多篇文本"
      ],
      "metadata": {
        "id": "ZG2Ef-QNP_T1"
      }
    },
    {
      "cell_type": "code",
      "source": [
        "esun_content = []\n",
        "for i in esun_list:\n",
        "   seg_list = jieba.lcut(i)\n",
        "   remainder_words = list(filter(lambda text: text not in stopWords and len(text) > 1, seg_list))\n",
        "   remainder_words = ' '.join(remainder_words)\n",
        "   esun_content.append(remainder_words)"
      ],
      "metadata": {
        "id": "LLEyjx2jLmJE",
        "colab": {
          "base_uri": "https://localhost:8080/"
        },
        "outputId": "99659d92-c247-44c9-e970-b49f53c87946"
      },
      "execution_count": null,
      "outputs": [
        {
          "output_type": "stream",
          "name": "stderr",
          "text": [
            "Building prefix dict from /content/dict.txt.big ...\n",
            "DEBUG:jieba:Building prefix dict from /content/dict.txt.big ...\n",
            "Loading model from cache /tmp/jieba.u501edca284da514cb68b53a20324f4e3.cache\n",
            "DEBUG:jieba:Loading model from cache /tmp/jieba.u501edca284da514cb68b53a20324f4e3.cache\n",
            "Loading model cost 1.504 seconds.\n",
            "DEBUG:jieba:Loading model cost 1.504 seconds.\n",
            "Prefix dict has been built successfully.\n",
            "DEBUG:jieba:Prefix dict has been built successfully.\n"
          ]
        }
      ]
    },
    {
      "cell_type": "code",
      "source": [
        "cathay_content = []\n",
        "for i in cathay_list:\n",
        "   seg_list = jieba.lcut(i)\n",
        "   remainder_words = list(filter(lambda text: text not in stopWords and len(text) > 1, seg_list))\n",
        "   remainder_words = ' '.join(remainder_words)\n",
        "   cathay_content.append(remainder_words)"
      ],
      "metadata": {
        "id": "zkM9t8MPYmy5"
      },
      "execution_count": null,
      "outputs": []
    },
    {
      "cell_type": "code",
      "source": [
        "yuanta_content = []\n",
        "for i in yuanta_list:\n",
        "   seg_list = jieba.lcut(i)\n",
        "   remainder_words = list(filter(lambda text: text not in stopWords and len(text) > 1, seg_list))\n",
        "   remainder_words = ' '.join(remainder_words)\n",
        "   yuanta_content.append(remainder_words) # yuanta_content: 已斷詞的多篇文本（去掉停用詞）== Corpus"
      ],
      "metadata": {
        "id": "9GeBUmO6Ymrw"
      },
      "execution_count": null,
      "outputs": []
    },
    {
      "cell_type": "markdown",
      "source": [
        "將三份 Corpus 整理成整理成 dataframe 並新增欄位為各自名稱"
      ],
      "metadata": {
        "id": "kqXza5hjR6Bn"
      }
    },
    {
      "cell_type": "code",
      "source": [
        "rawdata = pd.concat([\n",
        "                pd.DataFrame({'content': esun_content,\n",
        "                              'label': ['esun'] * len(esun_content)}),\n",
        "                pd.DataFrame({'content': cathay_content,\n",
        "                              'label': ['cathay'] * len(cathay_content)}),\n",
        "                pd.DataFrame({'content': yuanta_content,\n",
        "                              'label': ['yuanta'] * len(yuanta_content)}),\n",
        "                             ],\n",
        "                axis=0)\n",
        "rawdata.reset_index(drop=True, inplace=True)\n",
        "rawdata['content'] = rawdata['content'].str.replace(r'\\d', '') # 去除 Corpus 中的數字"
      ],
      "metadata": {
        "id": "nQ1KCU3PaQYU",
        "colab": {
          "base_uri": "https://localhost:8080/"
        },
        "outputId": "787a8ed0-c956-47ff-d1fe-8ebd7d08d805"
      },
      "execution_count": null,
      "outputs": [
        {
          "output_type": "stream",
          "name": "stderr",
          "text": [
            "/usr/local/lib/python3.7/dist-packages/ipykernel_launcher.py:11: FutureWarning: The default value of regex will change from True to False in a future version.\n",
            "  # This is added back by InteractiveShellApp.init_path()\n"
          ]
        }
      ]
    },
    {
      "cell_type": "code",
      "source": [
        "rawdata"
      ],
      "metadata": {
        "colab": {
          "base_uri": "https://localhost:8080/",
          "height": 545
        },
        "id": "RfAC7oGOdLaG",
        "outputId": "d22809c3-7d0e-4ee8-b3d4-4f1a77609ab0"
      },
      "execution_count": null,
      "outputs": [
        {
          "output_type": "execute_result",
          "data": {
            "text/plain": [
              "                                              content   label\n",
              "0   第二屆 工商時報 數位 金融  頒獎典禮 玉山 銀行 榮獲 數位 普惠獎 金質獎 數位 業務...    esun\n",
              "1   行政院 勞動部   舉辦  工作 生活 平衡 頒獎典禮 玉山 金控 優於 法令 制度 職家 ...    esun\n",
              "2   玉山 金控 長期 致力 推廣 海洋資源 永續 觀念 維護 生物 多樣性 保育 實際行動 響應...    esun\n",
              "3    FinTech Taipei 台北 金融 科技展  世貿中心 展覽 一館 開幕 玉山 銀行...    esun\n",
              "4   返回 國泰 世華好 聯名卡 合約 屆期 聲明 國泰 世華 銀行 好市 Costco 聯名卡 ...  cathay\n",
              "5   返回  國泰 永續 金融 氣候變遷 高峰 論壇     登場 獨家 雙語 轉播 埃及 COP...  cathay\n",
              "6   返回 國泰 金控 金融 科技 發展 蟬聯 數位 金融 贏家 疫情 反覆 金融 科技 生活 場...  cathay\n",
              "7   返回 國泰 金控 市府 AWS 打造 高雄 國泰 AWS 國際金融 創新 中心 聚焦 創新 ...  cathay\n",
              "8   返回 道路 救援 call 阿發 國泰 產險 首創 智能 客服 申請 道路 救援  小時 全...  cathay\n",
              "9   返回 國泰 新花樣 金融 自由 聽不膩 數錢聲 實體化 Gold Noise 登陸 台北 金...  cathay\n",
              "10  要點 打造 健康 職場 元大金控 集團 屢獲 運動 企業 認證 肯定 元大金控 集團 員工 ...  yuanta\n",
              "11  元大金控 職安衛 評比 排名 % 打造 健康 職場 勞動部 表揚 職場 員工 健康 現今 企...  yuanta\n",
              "12  推展 職場 健康 元大 人壽 運動 企業 認證 肯定 元大 集團 重視 員工 照顧 正向 發...  yuanta\n",
              "13  元大金控 攜手 供應商 建構 永續 供應鏈 淨零碳排 日常 做起 推廣 綠色 企業 文化 元...  yuanta\n",
              "14   風雨無阻 元大 輔大 夢想 起飛 一步 腳印 陪伴 偏鄉 學子 築夢 踏實 元大金控 文教...  yuanta\n",
              "15  CSA 評選 出爐 元大金居 綜合 金融 組全台 第一 ESG 卓越 績效 有目共睹 永續 ...  yuanta"
            ],
            "text/html": [
              "\n",
              "  <div id=\"df-4f021105-7798-4f68-99d0-5899787ef09a\">\n",
              "    <div class=\"colab-df-container\">\n",
              "      <div>\n",
              "<style scoped>\n",
              "    .dataframe tbody tr th:only-of-type {\n",
              "        vertical-align: middle;\n",
              "    }\n",
              "\n",
              "    .dataframe tbody tr th {\n",
              "        vertical-align: top;\n",
              "    }\n",
              "\n",
              "    .dataframe thead th {\n",
              "        text-align: right;\n",
              "    }\n",
              "</style>\n",
              "<table border=\"1\" class=\"dataframe\">\n",
              "  <thead>\n",
              "    <tr style=\"text-align: right;\">\n",
              "      <th></th>\n",
              "      <th>content</th>\n",
              "      <th>label</th>\n",
              "    </tr>\n",
              "  </thead>\n",
              "  <tbody>\n",
              "    <tr>\n",
              "      <th>0</th>\n",
              "      <td>第二屆 工商時報 數位 金融  頒獎典禮 玉山 銀行 榮獲 數位 普惠獎 金質獎 數位 業務...</td>\n",
              "      <td>esun</td>\n",
              "    </tr>\n",
              "    <tr>\n",
              "      <th>1</th>\n",
              "      <td>行政院 勞動部   舉辦  工作 生活 平衡 頒獎典禮 玉山 金控 優於 法令 制度 職家 ...</td>\n",
              "      <td>esun</td>\n",
              "    </tr>\n",
              "    <tr>\n",
              "      <th>2</th>\n",
              "      <td>玉山 金控 長期 致力 推廣 海洋資源 永續 觀念 維護 生物 多樣性 保育 實際行動 響應...</td>\n",
              "      <td>esun</td>\n",
              "    </tr>\n",
              "    <tr>\n",
              "      <th>3</th>\n",
              "      <td>FinTech Taipei 台北 金融 科技展  世貿中心 展覽 一館 開幕 玉山 銀行...</td>\n",
              "      <td>esun</td>\n",
              "    </tr>\n",
              "    <tr>\n",
              "      <th>4</th>\n",
              "      <td>返回 國泰 世華好 聯名卡 合約 屆期 聲明 國泰 世華 銀行 好市 Costco 聯名卡 ...</td>\n",
              "      <td>cathay</td>\n",
              "    </tr>\n",
              "    <tr>\n",
              "      <th>5</th>\n",
              "      <td>返回  國泰 永續 金融 氣候變遷 高峰 論壇     登場 獨家 雙語 轉播 埃及 COP...</td>\n",
              "      <td>cathay</td>\n",
              "    </tr>\n",
              "    <tr>\n",
              "      <th>6</th>\n",
              "      <td>返回 國泰 金控 金融 科技 發展 蟬聯 數位 金融 贏家 疫情 反覆 金融 科技 生活 場...</td>\n",
              "      <td>cathay</td>\n",
              "    </tr>\n",
              "    <tr>\n",
              "      <th>7</th>\n",
              "      <td>返回 國泰 金控 市府 AWS 打造 高雄 國泰 AWS 國際金融 創新 中心 聚焦 創新 ...</td>\n",
              "      <td>cathay</td>\n",
              "    </tr>\n",
              "    <tr>\n",
              "      <th>8</th>\n",
              "      <td>返回 道路 救援 call 阿發 國泰 產險 首創 智能 客服 申請 道路 救援  小時 全...</td>\n",
              "      <td>cathay</td>\n",
              "    </tr>\n",
              "    <tr>\n",
              "      <th>9</th>\n",
              "      <td>返回 國泰 新花樣 金融 自由 聽不膩 數錢聲 實體化 Gold Noise 登陸 台北 金...</td>\n",
              "      <td>cathay</td>\n",
              "    </tr>\n",
              "    <tr>\n",
              "      <th>10</th>\n",
              "      <td>要點 打造 健康 職場 元大金控 集團 屢獲 運動 企業 認證 肯定 元大金控 集團 員工 ...</td>\n",
              "      <td>yuanta</td>\n",
              "    </tr>\n",
              "    <tr>\n",
              "      <th>11</th>\n",
              "      <td>元大金控 職安衛 評比 排名 % 打造 健康 職場 勞動部 表揚 職場 員工 健康 現今 企...</td>\n",
              "      <td>yuanta</td>\n",
              "    </tr>\n",
              "    <tr>\n",
              "      <th>12</th>\n",
              "      <td>推展 職場 健康 元大 人壽 運動 企業 認證 肯定 元大 集團 重視 員工 照顧 正向 發...</td>\n",
              "      <td>yuanta</td>\n",
              "    </tr>\n",
              "    <tr>\n",
              "      <th>13</th>\n",
              "      <td>元大金控 攜手 供應商 建構 永續 供應鏈 淨零碳排 日常 做起 推廣 綠色 企業 文化 元...</td>\n",
              "      <td>yuanta</td>\n",
              "    </tr>\n",
              "    <tr>\n",
              "      <th>14</th>\n",
              "      <td>風雨無阻 元大 輔大 夢想 起飛 一步 腳印 陪伴 偏鄉 學子 築夢 踏實 元大金控 文教...</td>\n",
              "      <td>yuanta</td>\n",
              "    </tr>\n",
              "    <tr>\n",
              "      <th>15</th>\n",
              "      <td>CSA 評選 出爐 元大金居 綜合 金融 組全台 第一 ESG 卓越 績效 有目共睹 永續 ...</td>\n",
              "      <td>yuanta</td>\n",
              "    </tr>\n",
              "  </tbody>\n",
              "</table>\n",
              "</div>\n",
              "      <button class=\"colab-df-convert\" onclick=\"convertToInteractive('df-4f021105-7798-4f68-99d0-5899787ef09a')\"\n",
              "              title=\"Convert this dataframe to an interactive table.\"\n",
              "              style=\"display:none;\">\n",
              "        \n",
              "  <svg xmlns=\"http://www.w3.org/2000/svg\" height=\"24px\"viewBox=\"0 0 24 24\"\n",
              "       width=\"24px\">\n",
              "    <path d=\"M0 0h24v24H0V0z\" fill=\"none\"/>\n",
              "    <path d=\"M18.56 5.44l.94 2.06.94-2.06 2.06-.94-2.06-.94-.94-2.06-.94 2.06-2.06.94zm-11 1L8.5 8.5l.94-2.06 2.06-.94-2.06-.94L8.5 2.5l-.94 2.06-2.06.94zm10 10l.94 2.06.94-2.06 2.06-.94-2.06-.94-.94-2.06-.94 2.06-2.06.94z\"/><path d=\"M17.41 7.96l-1.37-1.37c-.4-.4-.92-.59-1.43-.59-.52 0-1.04.2-1.43.59L10.3 9.45l-7.72 7.72c-.78.78-.78 2.05 0 2.83L4 21.41c.39.39.9.59 1.41.59.51 0 1.02-.2 1.41-.59l7.78-7.78 2.81-2.81c.8-.78.8-2.07 0-2.86zM5.41 20L4 18.59l7.72-7.72 1.47 1.35L5.41 20z\"/>\n",
              "  </svg>\n",
              "      </button>\n",
              "      \n",
              "  <style>\n",
              "    .colab-df-container {\n",
              "      display:flex;\n",
              "      flex-wrap:wrap;\n",
              "      gap: 12px;\n",
              "    }\n",
              "\n",
              "    .colab-df-convert {\n",
              "      background-color: #E8F0FE;\n",
              "      border: none;\n",
              "      border-radius: 50%;\n",
              "      cursor: pointer;\n",
              "      display: none;\n",
              "      fill: #1967D2;\n",
              "      height: 32px;\n",
              "      padding: 0 0 0 0;\n",
              "      width: 32px;\n",
              "    }\n",
              "\n",
              "    .colab-df-convert:hover {\n",
              "      background-color: #E2EBFA;\n",
              "      box-shadow: 0px 1px 2px rgba(60, 64, 67, 0.3), 0px 1px 3px 1px rgba(60, 64, 67, 0.15);\n",
              "      fill: #174EA6;\n",
              "    }\n",
              "\n",
              "    [theme=dark] .colab-df-convert {\n",
              "      background-color: #3B4455;\n",
              "      fill: #D2E3FC;\n",
              "    }\n",
              "\n",
              "    [theme=dark] .colab-df-convert:hover {\n",
              "      background-color: #434B5C;\n",
              "      box-shadow: 0px 1px 3px 1px rgba(0, 0, 0, 0.15);\n",
              "      filter: drop-shadow(0px 1px 2px rgba(0, 0, 0, 0.3));\n",
              "      fill: #FFFFFF;\n",
              "    }\n",
              "  </style>\n",
              "\n",
              "      <script>\n",
              "        const buttonEl =\n",
              "          document.querySelector('#df-4f021105-7798-4f68-99d0-5899787ef09a button.colab-df-convert');\n",
              "        buttonEl.style.display =\n",
              "          google.colab.kernel.accessAllowed ? 'block' : 'none';\n",
              "\n",
              "        async function convertToInteractive(key) {\n",
              "          const element = document.querySelector('#df-4f021105-7798-4f68-99d0-5899787ef09a');\n",
              "          const dataTable =\n",
              "            await google.colab.kernel.invokeFunction('convertToInteractive',\n",
              "                                                     [key], {});\n",
              "          if (!dataTable) return;\n",
              "\n",
              "          const docLinkHtml = 'Like what you see? Visit the ' +\n",
              "            '<a target=\"_blank\" href=https://colab.research.google.com/notebooks/data_table.ipynb>data table notebook</a>'\n",
              "            + ' to learn more about interactive tables.';\n",
              "          element.innerHTML = '';\n",
              "          dataTable['output_type'] = 'display_data';\n",
              "          await google.colab.output.renderOutput(dataTable, element);\n",
              "          const docLink = document.createElement('div');\n",
              "          docLink.innerHTML = docLinkHtml;\n",
              "          element.appendChild(docLink);\n",
              "        }\n",
              "      </script>\n",
              "    </div>\n",
              "  </div>\n",
              "  "
            ]
          },
          "metadata": {},
          "execution_count": 34
        }
      ]
    },
    {
      "cell_type": "markdown",
      "source": [
        "### **step3: 使用 TF-IDF, TextRank, jeiba 計算詞頻及關鍵字**"
      ],
      "metadata": {
        "id": "GjSqTORXTqB-"
      }
    },
    {
      "cell_type": "markdown",
      "source": [
        "1. TF-IDF\n",
        "\n"
      ],
      "metadata": {
        "id": "VW_Jqi9nQXgm"
      }
    },
    {
      "cell_type": "code",
      "source": [
        "from sklearn.feature_extraction.text import CountVectorizer\n",
        "from sklearn.feature_extraction.text import TfidfTransformer\n",
        "from sklearn.feature_extraction.text import TfidfVectorizer"
      ],
      "metadata": {
        "id": "qROAYFfIFoQP"
      },
      "execution_count": null,
      "outputs": []
    },
    {
      "cell_type": "code",
      "source": [
        "# 詞頻\n",
        "# 建立計算每個term在doc有多少個\n",
        "cv = CountVectorizer(tokenizer=lambda x: x.split()) \n",
        "text_count_vector = cv.fit_transform(rawdata['content']).toarray()"
      ],
      "metadata": {
        "id": "CpG-783Qhzvq"
      },
      "execution_count": null,
      "outputs": []
    },
    {
      "cell_type": "code",
      "source": [
        "ESUN = pd.DataFrame({'玉山關鍵字': cv.get_feature_names(),\n",
        "                          '字頻': text_count_vector[rawdata.label == 'esun'].mean(axis=0).tolist()}).sort_values(by='字頻', ascending=False).reset_index(drop=True)\n",
        "CATHAY = pd.DataFrame({'國泰關鍵字': cv.get_feature_names(),\n",
        "                          '字頻': text_count_vector[rawdata.label == 'cathay'].mean(axis=0).tolist()}).sort_values(by='字頻', ascending=False).reset_index(drop=True)\n",
        "YUANTA = pd.DataFrame({'元大關鍵字': cv.get_feature_names(),\n",
        "                          '字頻': text_count_vector[rawdata.label == 'yuanta'].mean(axis=0).tolist()}).sort_values(by='字頻', ascending=False).reset_index(drop=True)\n",
        "\n",
        "COUNT_DF = pd.concat([ESUN, CATHAY, YUANTA],axis=1)"
      ],
      "metadata": {
        "colab": {
          "base_uri": "https://localhost:8080/"
        },
        "id": "MzTGiVtjiKt7",
        "outputId": "834f156a-9969-40cb-eea5-a2cb05c82728"
      },
      "execution_count": null,
      "outputs": [
        {
          "output_type": "stream",
          "name": "stderr",
          "text": [
            "/usr/local/lib/python3.7/dist-packages/sklearn/utils/deprecation.py:87: FutureWarning: Function get_feature_names is deprecated; get_feature_names is deprecated in 1.0 and will be removed in 1.2. Please use get_feature_names_out instead.\n",
            "  warnings.warn(msg, category=FutureWarning)\n"
          ]
        }
      ]
    },
    {
      "cell_type": "markdown",
      "source": [
        "下表為三家 ESG 新聞稿的前 20 高字頻，玉山和國泰都多次提到「顧客」、「數位」、「金融」、「服務」，兩者可能在策略上較著重在提供消費者數位金融服務的部分，希望提升服務的滿意度；而元大則是「員工」、「健康」、「運動」、「企業」較常被提到，可以推測元大可能對於公司治理這塊，關於員工照顧的部分有特別用心。"
      ],
      "metadata": {
        "id": "hD25_H-lYvU_"
      }
    },
    {
      "cell_type": "code",
      "source": [
        "display(COUNT_DF.head(20))"
      ],
      "metadata": {
        "colab": {
          "base_uri": "https://localhost:8080/",
          "height": 669
        },
        "id": "ymMehjmXjKBt",
        "outputId": "e71fab60-1254-4736-ab0d-2c7bfd0ae2aa"
      },
      "execution_count": null,
      "outputs": [
        {
          "output_type": "display_data",
          "data": {
            "text/plain": [
              "   玉山關鍵字     字頻 國泰關鍵字         字頻 元大關鍵字        字頻\n",
              "0     玉山  10.25    國泰  15.333333    健康  8.166667\n",
              "1     顧客   5.50    金融   9.166667    員工  5.833333\n",
              "2     數位   5.25    數位   7.833333    永續  5.833333\n",
              "3     金融   4.50    服務   6.666667    企業  4.833333\n",
              "4     提供   3.50    創新   6.333333    運動  4.166667\n",
              "5     服務   3.50    基金   5.333333  元大金控  3.333333\n",
              "6     企業   3.25    產險   4.333333    發展  3.000000\n",
              "7     海龜   3.00    金控   3.666667    職場  3.000000\n",
              "8     銀行   2.75    發展   3.500000    元大  3.000000\n",
              "9     保育   2.50    科技   3.166667    同仁  2.833333\n",
              "10    透過   2.25    資訊   3.166667    推動  2.333333\n",
              "11    榮獲   2.00    高雄   3.000000    提供  2.333333\n",
              "12    生態   2.00    救援   2.833333    活動  2.333333\n",
              "13    體驗   2.00    保險   2.833333   供應商  2.000000\n",
              "14    多元   2.00   aws   2.833333    環境  1.833333\n",
              "15    持續   1.75    證券   2.833333    集團  1.666667\n",
              "16    員工   1.75    體驗   2.500000    社會  1.666667\n",
              "17    全球   1.50    雲端   2.500000    人壽  1.666667\n",
              "18    永續   1.50    提供   2.500000    課程  1.666667\n",
              "19    現場   1.50    客戶   2.500000    金融  1.666667"
            ],
            "text/html": [
              "\n",
              "  <div id=\"df-29eedf5a-71ff-4675-8db6-34baeab9f04f\">\n",
              "    <div class=\"colab-df-container\">\n",
              "      <div>\n",
              "<style scoped>\n",
              "    .dataframe tbody tr th:only-of-type {\n",
              "        vertical-align: middle;\n",
              "    }\n",
              "\n",
              "    .dataframe tbody tr th {\n",
              "        vertical-align: top;\n",
              "    }\n",
              "\n",
              "    .dataframe thead th {\n",
              "        text-align: right;\n",
              "    }\n",
              "</style>\n",
              "<table border=\"1\" class=\"dataframe\">\n",
              "  <thead>\n",
              "    <tr style=\"text-align: right;\">\n",
              "      <th></th>\n",
              "      <th>玉山關鍵字</th>\n",
              "      <th>字頻</th>\n",
              "      <th>國泰關鍵字</th>\n",
              "      <th>字頻</th>\n",
              "      <th>元大關鍵字</th>\n",
              "      <th>字頻</th>\n",
              "    </tr>\n",
              "  </thead>\n",
              "  <tbody>\n",
              "    <tr>\n",
              "      <th>0</th>\n",
              "      <td>玉山</td>\n",
              "      <td>10.25</td>\n",
              "      <td>國泰</td>\n",
              "      <td>15.333333</td>\n",
              "      <td>健康</td>\n",
              "      <td>8.166667</td>\n",
              "    </tr>\n",
              "    <tr>\n",
              "      <th>1</th>\n",
              "      <td>顧客</td>\n",
              "      <td>5.50</td>\n",
              "      <td>金融</td>\n",
              "      <td>9.166667</td>\n",
              "      <td>員工</td>\n",
              "      <td>5.833333</td>\n",
              "    </tr>\n",
              "    <tr>\n",
              "      <th>2</th>\n",
              "      <td>數位</td>\n",
              "      <td>5.25</td>\n",
              "      <td>數位</td>\n",
              "      <td>7.833333</td>\n",
              "      <td>永續</td>\n",
              "      <td>5.833333</td>\n",
              "    </tr>\n",
              "    <tr>\n",
              "      <th>3</th>\n",
              "      <td>金融</td>\n",
              "      <td>4.50</td>\n",
              "      <td>服務</td>\n",
              "      <td>6.666667</td>\n",
              "      <td>企業</td>\n",
              "      <td>4.833333</td>\n",
              "    </tr>\n",
              "    <tr>\n",
              "      <th>4</th>\n",
              "      <td>提供</td>\n",
              "      <td>3.50</td>\n",
              "      <td>創新</td>\n",
              "      <td>6.333333</td>\n",
              "      <td>運動</td>\n",
              "      <td>4.166667</td>\n",
              "    </tr>\n",
              "    <tr>\n",
              "      <th>5</th>\n",
              "      <td>服務</td>\n",
              "      <td>3.50</td>\n",
              "      <td>基金</td>\n",
              "      <td>5.333333</td>\n",
              "      <td>元大金控</td>\n",
              "      <td>3.333333</td>\n",
              "    </tr>\n",
              "    <tr>\n",
              "      <th>6</th>\n",
              "      <td>企業</td>\n",
              "      <td>3.25</td>\n",
              "      <td>產險</td>\n",
              "      <td>4.333333</td>\n",
              "      <td>發展</td>\n",
              "      <td>3.000000</td>\n",
              "    </tr>\n",
              "    <tr>\n",
              "      <th>7</th>\n",
              "      <td>海龜</td>\n",
              "      <td>3.00</td>\n",
              "      <td>金控</td>\n",
              "      <td>3.666667</td>\n",
              "      <td>職場</td>\n",
              "      <td>3.000000</td>\n",
              "    </tr>\n",
              "    <tr>\n",
              "      <th>8</th>\n",
              "      <td>銀行</td>\n",
              "      <td>2.75</td>\n",
              "      <td>發展</td>\n",
              "      <td>3.500000</td>\n",
              "      <td>元大</td>\n",
              "      <td>3.000000</td>\n",
              "    </tr>\n",
              "    <tr>\n",
              "      <th>9</th>\n",
              "      <td>保育</td>\n",
              "      <td>2.50</td>\n",
              "      <td>科技</td>\n",
              "      <td>3.166667</td>\n",
              "      <td>同仁</td>\n",
              "      <td>2.833333</td>\n",
              "    </tr>\n",
              "    <tr>\n",
              "      <th>10</th>\n",
              "      <td>透過</td>\n",
              "      <td>2.25</td>\n",
              "      <td>資訊</td>\n",
              "      <td>3.166667</td>\n",
              "      <td>推動</td>\n",
              "      <td>2.333333</td>\n",
              "    </tr>\n",
              "    <tr>\n",
              "      <th>11</th>\n",
              "      <td>榮獲</td>\n",
              "      <td>2.00</td>\n",
              "      <td>高雄</td>\n",
              "      <td>3.000000</td>\n",
              "      <td>提供</td>\n",
              "      <td>2.333333</td>\n",
              "    </tr>\n",
              "    <tr>\n",
              "      <th>12</th>\n",
              "      <td>生態</td>\n",
              "      <td>2.00</td>\n",
              "      <td>救援</td>\n",
              "      <td>2.833333</td>\n",
              "      <td>活動</td>\n",
              "      <td>2.333333</td>\n",
              "    </tr>\n",
              "    <tr>\n",
              "      <th>13</th>\n",
              "      <td>體驗</td>\n",
              "      <td>2.00</td>\n",
              "      <td>保險</td>\n",
              "      <td>2.833333</td>\n",
              "      <td>供應商</td>\n",
              "      <td>2.000000</td>\n",
              "    </tr>\n",
              "    <tr>\n",
              "      <th>14</th>\n",
              "      <td>多元</td>\n",
              "      <td>2.00</td>\n",
              "      <td>aws</td>\n",
              "      <td>2.833333</td>\n",
              "      <td>環境</td>\n",
              "      <td>1.833333</td>\n",
              "    </tr>\n",
              "    <tr>\n",
              "      <th>15</th>\n",
              "      <td>持續</td>\n",
              "      <td>1.75</td>\n",
              "      <td>證券</td>\n",
              "      <td>2.833333</td>\n",
              "      <td>集團</td>\n",
              "      <td>1.666667</td>\n",
              "    </tr>\n",
              "    <tr>\n",
              "      <th>16</th>\n",
              "      <td>員工</td>\n",
              "      <td>1.75</td>\n",
              "      <td>體驗</td>\n",
              "      <td>2.500000</td>\n",
              "      <td>社會</td>\n",
              "      <td>1.666667</td>\n",
              "    </tr>\n",
              "    <tr>\n",
              "      <th>17</th>\n",
              "      <td>全球</td>\n",
              "      <td>1.50</td>\n",
              "      <td>雲端</td>\n",
              "      <td>2.500000</td>\n",
              "      <td>人壽</td>\n",
              "      <td>1.666667</td>\n",
              "    </tr>\n",
              "    <tr>\n",
              "      <th>18</th>\n",
              "      <td>永續</td>\n",
              "      <td>1.50</td>\n",
              "      <td>提供</td>\n",
              "      <td>2.500000</td>\n",
              "      <td>課程</td>\n",
              "      <td>1.666667</td>\n",
              "    </tr>\n",
              "    <tr>\n",
              "      <th>19</th>\n",
              "      <td>現場</td>\n",
              "      <td>1.50</td>\n",
              "      <td>客戶</td>\n",
              "      <td>2.500000</td>\n",
              "      <td>金融</td>\n",
              "      <td>1.666667</td>\n",
              "    </tr>\n",
              "  </tbody>\n",
              "</table>\n",
              "</div>\n",
              "      <button class=\"colab-df-convert\" onclick=\"convertToInteractive('df-29eedf5a-71ff-4675-8db6-34baeab9f04f')\"\n",
              "              title=\"Convert this dataframe to an interactive table.\"\n",
              "              style=\"display:none;\">\n",
              "        \n",
              "  <svg xmlns=\"http://www.w3.org/2000/svg\" height=\"24px\"viewBox=\"0 0 24 24\"\n",
              "       width=\"24px\">\n",
              "    <path d=\"M0 0h24v24H0V0z\" fill=\"none\"/>\n",
              "    <path d=\"M18.56 5.44l.94 2.06.94-2.06 2.06-.94-2.06-.94-.94-2.06-.94 2.06-2.06.94zm-11 1L8.5 8.5l.94-2.06 2.06-.94-2.06-.94L8.5 2.5l-.94 2.06-2.06.94zm10 10l.94 2.06.94-2.06 2.06-.94-2.06-.94-.94-2.06-.94 2.06-2.06.94z\"/><path d=\"M17.41 7.96l-1.37-1.37c-.4-.4-.92-.59-1.43-.59-.52 0-1.04.2-1.43.59L10.3 9.45l-7.72 7.72c-.78.78-.78 2.05 0 2.83L4 21.41c.39.39.9.59 1.41.59.51 0 1.02-.2 1.41-.59l7.78-7.78 2.81-2.81c.8-.78.8-2.07 0-2.86zM5.41 20L4 18.59l7.72-7.72 1.47 1.35L5.41 20z\"/>\n",
              "  </svg>\n",
              "      </button>\n",
              "      \n",
              "  <style>\n",
              "    .colab-df-container {\n",
              "      display:flex;\n",
              "      flex-wrap:wrap;\n",
              "      gap: 12px;\n",
              "    }\n",
              "\n",
              "    .colab-df-convert {\n",
              "      background-color: #E8F0FE;\n",
              "      border: none;\n",
              "      border-radius: 50%;\n",
              "      cursor: pointer;\n",
              "      display: none;\n",
              "      fill: #1967D2;\n",
              "      height: 32px;\n",
              "      padding: 0 0 0 0;\n",
              "      width: 32px;\n",
              "    }\n",
              "\n",
              "    .colab-df-convert:hover {\n",
              "      background-color: #E2EBFA;\n",
              "      box-shadow: 0px 1px 2px rgba(60, 64, 67, 0.3), 0px 1px 3px 1px rgba(60, 64, 67, 0.15);\n",
              "      fill: #174EA6;\n",
              "    }\n",
              "\n",
              "    [theme=dark] .colab-df-convert {\n",
              "      background-color: #3B4455;\n",
              "      fill: #D2E3FC;\n",
              "    }\n",
              "\n",
              "    [theme=dark] .colab-df-convert:hover {\n",
              "      background-color: #434B5C;\n",
              "      box-shadow: 0px 1px 3px 1px rgba(0, 0, 0, 0.15);\n",
              "      filter: drop-shadow(0px 1px 2px rgba(0, 0, 0, 0.3));\n",
              "      fill: #FFFFFF;\n",
              "    }\n",
              "  </style>\n",
              "\n",
              "      <script>\n",
              "        const buttonEl =\n",
              "          document.querySelector('#df-29eedf5a-71ff-4675-8db6-34baeab9f04f button.colab-df-convert');\n",
              "        buttonEl.style.display =\n",
              "          google.colab.kernel.accessAllowed ? 'block' : 'none';\n",
              "\n",
              "        async function convertToInteractive(key) {\n",
              "          const element = document.querySelector('#df-29eedf5a-71ff-4675-8db6-34baeab9f04f');\n",
              "          const dataTable =\n",
              "            await google.colab.kernel.invokeFunction('convertToInteractive',\n",
              "                                                     [key], {});\n",
              "          if (!dataTable) return;\n",
              "\n",
              "          const docLinkHtml = 'Like what you see? Visit the ' +\n",
              "            '<a target=\"_blank\" href=https://colab.research.google.com/notebooks/data_table.ipynb>data table notebook</a>'\n",
              "            + ' to learn more about interactive tables.';\n",
              "          element.innerHTML = '';\n",
              "          dataTable['output_type'] = 'display_data';\n",
              "          await google.colab.output.renderOutput(dataTable, element);\n",
              "          const docLink = document.createElement('div');\n",
              "          docLink.innerHTML = docLinkHtml;\n",
              "          element.appendChild(docLink);\n",
              "        }\n",
              "      </script>\n",
              "    </div>\n",
              "  </div>\n",
              "  "
            ]
          },
          "metadata": {}
        }
      ]
    },
    {
      "cell_type": "code",
      "source": [
        "# 關鍵字\n",
        "vectorizer = TfidfVectorizer(sublinear_tf=False, token_pattern=\"(?u)\\\\b\\\\w+\\\\b\", smooth_idf=True, max_features=128)  \n",
        "tfidf_feature = vectorizer.fit_transform(rawdata['content']).toarray()"
      ],
      "metadata": {
        "id": "un-DpttCcycy"
      },
      "execution_count": null,
      "outputs": []
    },
    {
      "cell_type": "code",
      "source": [
        "ESUN = pd.DataFrame({'玉山關鍵字': vectorizer.get_feature_names(),\n",
        "                          'AVG_TFID': tfidf_feature[rawdata.label == 'esun'].mean(axis=0).tolist()}).sort_values(by='AVG_TFID', ascending=False).reset_index(drop=True)\n",
        "CATHAY = pd.DataFrame({'國泰關鍵字': vectorizer.get_feature_names(),\n",
        "                          'AVG_TFID': tfidf_feature[rawdata.label == 'cathay'].mean(axis=0).tolist()}).sort_values(by='AVG_TFID', ascending=False).reset_index(drop=True)\n",
        "YUANTA = pd.DataFrame({'元大關鍵字': vectorizer.get_feature_names(),\n",
        "                          'AVG_TFID': tfidf_feature[rawdata.label == 'yuanta'].mean(axis=0).tolist()}).sort_values(by='AVG_TFID', ascending=False).reset_index(drop=True)\n",
        "\n",
        "TFIDF_SCORE_DF = pd.concat([ESUN, CATHAY, YUANTA],axis=1)"
      ],
      "metadata": {
        "colab": {
          "base_uri": "https://localhost:8080/"
        },
        "id": "xFCRFcCOeqq-",
        "outputId": "6343bf46-937f-4833-c68a-39287396b5bd"
      },
      "execution_count": null,
      "outputs": [
        {
          "output_type": "stream",
          "name": "stderr",
          "text": [
            "/usr/local/lib/python3.7/dist-packages/sklearn/utils/deprecation.py:87: FutureWarning: Function get_feature_names is deprecated; get_feature_names is deprecated in 1.0 and will be removed in 1.2. Please use get_feature_names_out instead.\n",
            "  warnings.warn(msg, category=FutureWarning)\n"
          ]
        }
      ]
    },
    {
      "cell_type": "markdown",
      "source": [
        "下表為三家計算出來的關鍵字分數由高至低，跟詞頻的表格所呈現的結果有點類似"
      ],
      "metadata": {
        "id": "ltqh66pVcMvw"
      }
    },
    {
      "cell_type": "code",
      "source": [
        "TFIDF_SCORE_DF.head(20)"
      ],
      "metadata": {
        "colab": {
          "base_uri": "https://localhost:8080/",
          "height": 669
        },
        "id": "L9S-zMznfxDC",
        "outputId": "a96c9efe-43ed-4a1d-8617-686c60c7f7c5"
      },
      "execution_count": null,
      "outputs": [
        {
          "output_type": "execute_result",
          "data": {
            "text/plain": [
              "   玉山關鍵字  AVG_TFID 國泰關鍵字  AVG_TFID 元大關鍵字  AVG_TFID\n",
              "0     玉山  0.447433    國泰  0.353251    健康  0.280822\n",
              "1     顧客  0.200475    金融  0.158543    員工  0.216738\n",
              "2     數位  0.173364    數位  0.136870    永續  0.205418\n",
              "3     海龜  0.153579    創新  0.122849  元大金控  0.147969\n",
              "4     保育  0.127983  cube  0.122091    運動  0.136388\n",
              "5     金融  0.121446    產險  0.108484   供應商  0.131073\n",
              "6     員工  0.109980   聯名卡  0.100705    元大  0.130755\n",
              "7     生態  0.102386    服務  0.095081    企業  0.130728\n",
              "8     銀行  0.100901    基金  0.092202    職場  0.111788\n",
              "9     健康  0.094269    救援  0.092117    學生  0.098208\n",
              "10    企業  0.089538    金控  0.085762    同仁  0.091504\n",
              "11    服務  0.087615    世華  0.081394    發展  0.090351\n",
              "12    提供  0.084801    保險  0.077269    活動  0.084355\n",
              "13    榮獲  0.077062    高雄  0.076691    社會  0.081913\n",
              "14    現場  0.074209    論壇  0.073482    分享  0.076848\n",
              "15    持續  0.069323    道路  0.072445    評比  0.067458\n",
              "16    同仁  0.066014   aws  0.072430    人壽  0.066696\n",
              "17    多元  0.064833    氣候  0.070393    環境  0.066019\n",
              "18    體驗  0.064083   app  0.064349    綠色  0.064965\n",
              "19    工作  0.057693    國際  0.059892    目標  0.062262"
            ],
            "text/html": [
              "\n",
              "  <div id=\"df-7d49deae-54fc-41bb-aaf0-8f2bce89ff87\">\n",
              "    <div class=\"colab-df-container\">\n",
              "      <div>\n",
              "<style scoped>\n",
              "    .dataframe tbody tr th:only-of-type {\n",
              "        vertical-align: middle;\n",
              "    }\n",
              "\n",
              "    .dataframe tbody tr th {\n",
              "        vertical-align: top;\n",
              "    }\n",
              "\n",
              "    .dataframe thead th {\n",
              "        text-align: right;\n",
              "    }\n",
              "</style>\n",
              "<table border=\"1\" class=\"dataframe\">\n",
              "  <thead>\n",
              "    <tr style=\"text-align: right;\">\n",
              "      <th></th>\n",
              "      <th>玉山關鍵字</th>\n",
              "      <th>AVG_TFID</th>\n",
              "      <th>國泰關鍵字</th>\n",
              "      <th>AVG_TFID</th>\n",
              "      <th>元大關鍵字</th>\n",
              "      <th>AVG_TFID</th>\n",
              "    </tr>\n",
              "  </thead>\n",
              "  <tbody>\n",
              "    <tr>\n",
              "      <th>0</th>\n",
              "      <td>玉山</td>\n",
              "      <td>0.447433</td>\n",
              "      <td>國泰</td>\n",
              "      <td>0.353251</td>\n",
              "      <td>健康</td>\n",
              "      <td>0.280822</td>\n",
              "    </tr>\n",
              "    <tr>\n",
              "      <th>1</th>\n",
              "      <td>顧客</td>\n",
              "      <td>0.200475</td>\n",
              "      <td>金融</td>\n",
              "      <td>0.158543</td>\n",
              "      <td>員工</td>\n",
              "      <td>0.216738</td>\n",
              "    </tr>\n",
              "    <tr>\n",
              "      <th>2</th>\n",
              "      <td>數位</td>\n",
              "      <td>0.173364</td>\n",
              "      <td>數位</td>\n",
              "      <td>0.136870</td>\n",
              "      <td>永續</td>\n",
              "      <td>0.205418</td>\n",
              "    </tr>\n",
              "    <tr>\n",
              "      <th>3</th>\n",
              "      <td>海龜</td>\n",
              "      <td>0.153579</td>\n",
              "      <td>創新</td>\n",
              "      <td>0.122849</td>\n",
              "      <td>元大金控</td>\n",
              "      <td>0.147969</td>\n",
              "    </tr>\n",
              "    <tr>\n",
              "      <th>4</th>\n",
              "      <td>保育</td>\n",
              "      <td>0.127983</td>\n",
              "      <td>cube</td>\n",
              "      <td>0.122091</td>\n",
              "      <td>運動</td>\n",
              "      <td>0.136388</td>\n",
              "    </tr>\n",
              "    <tr>\n",
              "      <th>5</th>\n",
              "      <td>金融</td>\n",
              "      <td>0.121446</td>\n",
              "      <td>產險</td>\n",
              "      <td>0.108484</td>\n",
              "      <td>供應商</td>\n",
              "      <td>0.131073</td>\n",
              "    </tr>\n",
              "    <tr>\n",
              "      <th>6</th>\n",
              "      <td>員工</td>\n",
              "      <td>0.109980</td>\n",
              "      <td>聯名卡</td>\n",
              "      <td>0.100705</td>\n",
              "      <td>元大</td>\n",
              "      <td>0.130755</td>\n",
              "    </tr>\n",
              "    <tr>\n",
              "      <th>7</th>\n",
              "      <td>生態</td>\n",
              "      <td>0.102386</td>\n",
              "      <td>服務</td>\n",
              "      <td>0.095081</td>\n",
              "      <td>企業</td>\n",
              "      <td>0.130728</td>\n",
              "    </tr>\n",
              "    <tr>\n",
              "      <th>8</th>\n",
              "      <td>銀行</td>\n",
              "      <td>0.100901</td>\n",
              "      <td>基金</td>\n",
              "      <td>0.092202</td>\n",
              "      <td>職場</td>\n",
              "      <td>0.111788</td>\n",
              "    </tr>\n",
              "    <tr>\n",
              "      <th>9</th>\n",
              "      <td>健康</td>\n",
              "      <td>0.094269</td>\n",
              "      <td>救援</td>\n",
              "      <td>0.092117</td>\n",
              "      <td>學生</td>\n",
              "      <td>0.098208</td>\n",
              "    </tr>\n",
              "    <tr>\n",
              "      <th>10</th>\n",
              "      <td>企業</td>\n",
              "      <td>0.089538</td>\n",
              "      <td>金控</td>\n",
              "      <td>0.085762</td>\n",
              "      <td>同仁</td>\n",
              "      <td>0.091504</td>\n",
              "    </tr>\n",
              "    <tr>\n",
              "      <th>11</th>\n",
              "      <td>服務</td>\n",
              "      <td>0.087615</td>\n",
              "      <td>世華</td>\n",
              "      <td>0.081394</td>\n",
              "      <td>發展</td>\n",
              "      <td>0.090351</td>\n",
              "    </tr>\n",
              "    <tr>\n",
              "      <th>12</th>\n",
              "      <td>提供</td>\n",
              "      <td>0.084801</td>\n",
              "      <td>保險</td>\n",
              "      <td>0.077269</td>\n",
              "      <td>活動</td>\n",
              "      <td>0.084355</td>\n",
              "    </tr>\n",
              "    <tr>\n",
              "      <th>13</th>\n",
              "      <td>榮獲</td>\n",
              "      <td>0.077062</td>\n",
              "      <td>高雄</td>\n",
              "      <td>0.076691</td>\n",
              "      <td>社會</td>\n",
              "      <td>0.081913</td>\n",
              "    </tr>\n",
              "    <tr>\n",
              "      <th>14</th>\n",
              "      <td>現場</td>\n",
              "      <td>0.074209</td>\n",
              "      <td>論壇</td>\n",
              "      <td>0.073482</td>\n",
              "      <td>分享</td>\n",
              "      <td>0.076848</td>\n",
              "    </tr>\n",
              "    <tr>\n",
              "      <th>15</th>\n",
              "      <td>持續</td>\n",
              "      <td>0.069323</td>\n",
              "      <td>道路</td>\n",
              "      <td>0.072445</td>\n",
              "      <td>評比</td>\n",
              "      <td>0.067458</td>\n",
              "    </tr>\n",
              "    <tr>\n",
              "      <th>16</th>\n",
              "      <td>同仁</td>\n",
              "      <td>0.066014</td>\n",
              "      <td>aws</td>\n",
              "      <td>0.072430</td>\n",
              "      <td>人壽</td>\n",
              "      <td>0.066696</td>\n",
              "    </tr>\n",
              "    <tr>\n",
              "      <th>17</th>\n",
              "      <td>多元</td>\n",
              "      <td>0.064833</td>\n",
              "      <td>氣候</td>\n",
              "      <td>0.070393</td>\n",
              "      <td>環境</td>\n",
              "      <td>0.066019</td>\n",
              "    </tr>\n",
              "    <tr>\n",
              "      <th>18</th>\n",
              "      <td>體驗</td>\n",
              "      <td>0.064083</td>\n",
              "      <td>app</td>\n",
              "      <td>0.064349</td>\n",
              "      <td>綠色</td>\n",
              "      <td>0.064965</td>\n",
              "    </tr>\n",
              "    <tr>\n",
              "      <th>19</th>\n",
              "      <td>工作</td>\n",
              "      <td>0.057693</td>\n",
              "      <td>國際</td>\n",
              "      <td>0.059892</td>\n",
              "      <td>目標</td>\n",
              "      <td>0.062262</td>\n",
              "    </tr>\n",
              "  </tbody>\n",
              "</table>\n",
              "</div>\n",
              "      <button class=\"colab-df-convert\" onclick=\"convertToInteractive('df-7d49deae-54fc-41bb-aaf0-8f2bce89ff87')\"\n",
              "              title=\"Convert this dataframe to an interactive table.\"\n",
              "              style=\"display:none;\">\n",
              "        \n",
              "  <svg xmlns=\"http://www.w3.org/2000/svg\" height=\"24px\"viewBox=\"0 0 24 24\"\n",
              "       width=\"24px\">\n",
              "    <path d=\"M0 0h24v24H0V0z\" fill=\"none\"/>\n",
              "    <path d=\"M18.56 5.44l.94 2.06.94-2.06 2.06-.94-2.06-.94-.94-2.06-.94 2.06-2.06.94zm-11 1L8.5 8.5l.94-2.06 2.06-.94-2.06-.94L8.5 2.5l-.94 2.06-2.06.94zm10 10l.94 2.06.94-2.06 2.06-.94-2.06-.94-.94-2.06-.94 2.06-2.06.94z\"/><path d=\"M17.41 7.96l-1.37-1.37c-.4-.4-.92-.59-1.43-.59-.52 0-1.04.2-1.43.59L10.3 9.45l-7.72 7.72c-.78.78-.78 2.05 0 2.83L4 21.41c.39.39.9.59 1.41.59.51 0 1.02-.2 1.41-.59l7.78-7.78 2.81-2.81c.8-.78.8-2.07 0-2.86zM5.41 20L4 18.59l7.72-7.72 1.47 1.35L5.41 20z\"/>\n",
              "  </svg>\n",
              "      </button>\n",
              "      \n",
              "  <style>\n",
              "    .colab-df-container {\n",
              "      display:flex;\n",
              "      flex-wrap:wrap;\n",
              "      gap: 12px;\n",
              "    }\n",
              "\n",
              "    .colab-df-convert {\n",
              "      background-color: #E8F0FE;\n",
              "      border: none;\n",
              "      border-radius: 50%;\n",
              "      cursor: pointer;\n",
              "      display: none;\n",
              "      fill: #1967D2;\n",
              "      height: 32px;\n",
              "      padding: 0 0 0 0;\n",
              "      width: 32px;\n",
              "    }\n",
              "\n",
              "    .colab-df-convert:hover {\n",
              "      background-color: #E2EBFA;\n",
              "      box-shadow: 0px 1px 2px rgba(60, 64, 67, 0.3), 0px 1px 3px 1px rgba(60, 64, 67, 0.15);\n",
              "      fill: #174EA6;\n",
              "    }\n",
              "\n",
              "    [theme=dark] .colab-df-convert {\n",
              "      background-color: #3B4455;\n",
              "      fill: #D2E3FC;\n",
              "    }\n",
              "\n",
              "    [theme=dark] .colab-df-convert:hover {\n",
              "      background-color: #434B5C;\n",
              "      box-shadow: 0px 1px 3px 1px rgba(0, 0, 0, 0.15);\n",
              "      filter: drop-shadow(0px 1px 2px rgba(0, 0, 0, 0.3));\n",
              "      fill: #FFFFFF;\n",
              "    }\n",
              "  </style>\n",
              "\n",
              "      <script>\n",
              "        const buttonEl =\n",
              "          document.querySelector('#df-7d49deae-54fc-41bb-aaf0-8f2bce89ff87 button.colab-df-convert');\n",
              "        buttonEl.style.display =\n",
              "          google.colab.kernel.accessAllowed ? 'block' : 'none';\n",
              "\n",
              "        async function convertToInteractive(key) {\n",
              "          const element = document.querySelector('#df-7d49deae-54fc-41bb-aaf0-8f2bce89ff87');\n",
              "          const dataTable =\n",
              "            await google.colab.kernel.invokeFunction('convertToInteractive',\n",
              "                                                     [key], {});\n",
              "          if (!dataTable) return;\n",
              "\n",
              "          const docLinkHtml = 'Like what you see? Visit the ' +\n",
              "            '<a target=\"_blank\" href=https://colab.research.google.com/notebooks/data_table.ipynb>data table notebook</a>'\n",
              "            + ' to learn more about interactive tables.';\n",
              "          element.innerHTML = '';\n",
              "          dataTable['output_type'] = 'display_data';\n",
              "          await google.colab.output.renderOutput(dataTable, element);\n",
              "          const docLink = document.createElement('div');\n",
              "          docLink.innerHTML = docLinkHtml;\n",
              "          element.appendChild(docLink);\n",
              "        }\n",
              "      </script>\n",
              "    </div>\n",
              "  </div>\n",
              "  "
            ]
          },
          "metadata": {},
          "execution_count": 41
        }
      ]
    },
    {
      "cell_type": "markdown",
      "source": [
        "2. TextRank"
      ],
      "metadata": {
        "id": "y9LqiA02QonP"
      }
    },
    {
      "cell_type": "code",
      "source": [
        "!pip install textrank4zh\n",
        "from textrank4zh import TextRank4Keyword, TextRank4Sentence"
      ],
      "metadata": {
        "colab": {
          "base_uri": "https://localhost:8080/"
        },
        "id": "cfcAAOi7Rx3C",
        "outputId": "a54237fe-dc51-43c6-ac43-31abae105864"
      },
      "execution_count": null,
      "outputs": [
        {
          "output_type": "stream",
          "name": "stdout",
          "text": [
            "Looking in indexes: https://pypi.org/simple, https://us-python.pkg.dev/colab-wheels/public/simple/\n",
            "Requirement already satisfied: textrank4zh in /usr/local/lib/python3.7/dist-packages (0.3)\n",
            "Requirement already satisfied: jieba>=0.35 in /usr/local/lib/python3.7/dist-packages (from textrank4zh) (0.42.1)\n",
            "Requirement already satisfied: networkx>=1.9.1 in /usr/local/lib/python3.7/dist-packages (from textrank4zh) (2.6.3)\n",
            "Requirement already satisfied: numpy>=1.7.1 in /usr/local/lib/python3.7/dist-packages (from textrank4zh) (1.21.6)\n"
          ]
        }
      ]
    },
    {
      "cell_type": "markdown",
      "source": [
        "將三家的所有文本都放在一起，並使用 TextRank 看關鍵的結果，「金融」、「數位」、「服務」都有上榜，跟 TF-IDF 所做出來的結果很接近"
      ],
      "metadata": {
        "id": "ur5DN0woc1jU"
      }
    },
    {
      "cell_type": "code",
      "source": [
        "print('\\n所有文章關鍵詞：')\n",
        "tr4w = TextRank4Keyword()\n",
        "tr4w.analyze(text=' '.join(rawdata['content'].tolist()), lower=True, window=2)\n",
        "# window: 窗口大小，用於建構窗口內單詞之間的鏈結關係，default=2\n",
        "# lower: 是否將英文文本轉換為小寫，default=False\n",
        "for item in tr4w.get_keywords(20, word_min_len=1):\n",
        "\t# word_min_len: 最小關鍵詞長度\n",
        "    print(item.word, item.weight)\n",
        "\n",
        "\n",
        "min_occur_num = 2\n",
        "print('\\n文本中至少出現 {} 次的關鍵詞：'.format(min_occur_num))\n",
        "for phrase in tr4w.get_keyphrases(keywords_num=20, min_occur_num=min_occur_num):\n",
        "    print(phrase)\n",
        "\t# keywords_num: 返回的關鍵詞個數\n",
        "\t# min_occur_num: 關鍵詞在文本中至少出現__次\n",
        "\n",
        "\n",
        "print('\\n摘要：')\n",
        "tr4s = TextRank4Sentence()\n",
        "tr4s.analyze(text=' '.join(rawdata['content'].tolist()), lower=True, source='all_filters')\n",
        "for item in tr4s.get_key_sentences(num=5, sentence_min_len=30):\n",
        "\tprint(item.index, item.weight, item.sentence)\n",
        "    # 獲取 num 個句子長度大於等於 sentence_min_len 的句子，用來生成摘要\n",
        "    # num: 輸出__個句子\n",
        "    # sentence_min_len: 句子長度至少__字\n",
        "    # index: 該語句在文本中的位置"
      ],
      "metadata": {
        "colab": {
          "base_uri": "https://localhost:8080/"
        },
        "id": "3aWSZxq6QunP",
        "outputId": "13410adf-089e-454c-e389-88b1bf9b0b5a"
      },
      "execution_count": null,
      "outputs": [
        {
          "output_type": "stream",
          "name": "stdout",
          "text": [
            "\n",
            "所有文章關鍵詞：\n",
            "國泰 0.00972424557597952\n",
            "金融 0.008580432081122183\n",
            "服務 0.007886123888575814\n",
            "玉山 0.0063658112710292345\n",
            "數位 0.006191007344611051\n",
            "提供 0.006032368529385446\n",
            "企業 0.006006414280535672\n",
            "員工 0.005426927636234029\n",
            "發展 0.005201433036546712\n",
            "透過 0.0051044914657251235\n",
            "基金 0.004707395154558266\n",
            "創新 0.0042434072030908725\n",
            "公司 0.00416656271061574\n",
            "運動 0.004154206791007472\n",
            "國際 0.003946220931033325\n",
            "體驗 0.003926406099162245\n",
            "合作 0.0036870240192388216\n",
            "顧客 0.0036396905435827276\n",
            "同仁 0.0035694853031197323\n",
            "投資 0.0034736447953316756\n",
            "\n",
            "文本中至少出現 2 次的關鍵詞：\n",
            "\n",
            "摘要：\n",
            "0 0.9999999999999999 第二屆 工商時報 數位 金融  頒獎典禮 玉山 銀行 榮獲 數位 普惠獎 金質獎 數位 業務 優化 優質 獎及 玉山 證券 榮獲 綠色 數位 金融 優質 總計 榮獲 金質獎 優質 肯定 玉山 金融 科技領域 長期 顧客 需求 核心 持續 優化 顧客 體驗 面對 COVID  疫情 衝擊 全球 興起 接觸 服務 玉山 銀行  辦理 勞工 貸款 主打 快速 主動 接觸 全線 申貸 服務 透過 數位 平台 建置 顧客 申請 補件 簽約 在家 線上 進件 比率 高達 % 針對 數位化 程度 不高 須要 臨櫃 諮詢 顧客 提供 貸款 預約 平台 顧客 事先 預約 指定 時間 分行 系統 針對 人潮 計算 分流 類型 顧客 享有 絕佳 申貸 體驗 提供 貸款 進度 查詢 平台 顧客 隨時 自主 查詢 申貸 進度 因應 案件 階段 主動 發送 簡訊 顧客 更能 辦理 情形 玉山 銀行 科技 加速器 內部 透過 自動 審核 模型 機器人 流程 自動化 每案 審核 時間  分鐘 最快 可至  透過 系統  小時 不間斷 自動 撥款 功能 高峰 時期 單日 撥款 上萬 案件 顧客 可比 過往 即時 資金 玉山 秉持 普惠 金融 精神 持續 複製 成功經驗 推出 各項 便捷 服務 信貸 速貸 房貸 線上 估價 額度 試算 申請 撥款 可線 打破 時間 空間 顧客 隨時隨地 玉山 貸款 服務 榮獲 數位 普惠獎 金質獎 肯定 針對 企業 顧客 玉山 銀行 推出 全方位 金融服務 打造 企業 需求 核心 全球 智匯網 整合 帳戶 管理 跨境 資金 調度 提供 便利 CEO App 提升 企業 競爭力 全球 智匯 網除 外幣現金 管理 及貿融 功能 外為 企業 即時 資金 創新 提供 數位 授信 交易 企業 可於 線上 申請 融資 動用 還款 無須 親至 分行 辦理 營運 中斷 顧客 便利 輕鬆 全球 智匯網 獨家 推出 玉山 全球通 連結 電子 支付 收款 服務 協助 企業 提升 提領 PayPal 款項 效率 台灣 企業 產品 行銷 全球 電商 市場 後顧之憂 中小企業 出口 競爭力 榮獲 數位 業務 優化 優質 肯定 玉山 證券 數位 科技 致力 金融 商品 綠色 數位化 作業 流程 綠色 數位化 透過 自主 開發 之下 APP 全球 知名 ESG 評鑑 機構 ESG 風險 評分 獨家 串接 下單 APP 提供 顧客 產業 市場 快速 查找 個股 ESG 風險 評分 投資人 選股 時能將 企業 ESG 表現 納入 決策 考量 啟動 對外 顧客 內部 作業 無紙化 工程 如免 臨櫃 之線 開戶 服務 作業 表單 流程 數位化 多項 商品 整合性 帳單 系統 透過 流程 自動化 定義 組織 分工 整合 大幅 縮短 作業 時間 免去 各項 人工 作業 之碳 足跡 榮獲 綠色 數位 金融 優質 肯定 玉山 傾聽 顧客 聲音 創新 多元 顧客 金融 需求 未來 持續 借助 科技 力量 提供 顧客 數位 金融 體驗 行政院 勞動部   舉辦  工作 生活 平衡 頒獎典禮 玉山 金控 優於 法令 制度 職家 平衡 措施 實質 安心 保障 提升 身心健康 舒適 全場 五大 指標 措施 榮獲 員工 關懷 肯定 展現 玉山 打造 工作 生活 平衡 友善 職場 期望 成為 一家 溫度 幸福 企業 玉山 金控人 資長 志成 人才 先行 指標 關鍵 指標 玉山 持續 本著 先有 滿意 員工 滿意 顧客 信念 認為 員工 重視 一個 企業 價值 展現 COVID  疫情 期間 玉山 提供 同仁 全薪 防疫 照顧 疫苗 接種 假及 防疫 隔離 防疫 慰勞 海外 行程 取消 費用 補貼 確診 防疫 保險 措施 率先 金融 同業 提供 每胎  萬元 寶貝 成長 基金 優於 法令 假別 育嬰 留停 制度 致力 成為 同仁 人生 階段 最佳 後盾 善盡 關懷 員工 企業 社會 責任 持續 發揮 正向 影響力 營造 健康 幸福 職場 提供 完善 EAP 專業 心理 諮商 健檢 福利 針對 健檢 數據 異常 員工 追蹤 管理 主動 轉介 台大 醫師 臨場 服務 額外 提供 複檢 公假 設置 運動 中心 辦理 健康 管理 健康 享瘦班 單車 環島 玉山 登峰 多元 健康 活動 持續 優化 運動 支持性 環境 培養 同仁 勇於 挑戰 自我 挑戰 人生態度 辦公大樓 設置 員工 餐廳 團膳 廠商 HACCP 衛生 評鑑 認證 營養師 規劃 營養 均衡 餐食 營造 健康 環保 飲食文化 推動 玉山 蔬食 由內而外 守護 同仁 身心健康 獲獎 榮譽 更是 責任 邁向 永續 發展 道路 玉山 金控 矢志 成為 綜合 績效 尊敬 企業 金融 本業 精進 用心 營造 健康 幸福 友善 職場 透過 多元 發展 舞台 工作 家庭 平衡 措施 多元 溝通 管道 面向 打造 一個 激發 員工 熱情 充分發揮 潛能 實踐 自我 價值 工作 環境 持續 發揮 拋磚引玉 一份 愛能 牽引 邁向 美好 未來 玉山 金控 長期 致力 推廣 海洋資源 永續 觀念 維護 生物 多樣性 保育 實際行動 響應 聯合國 永續 發展 目標 SDG 海洋 生態 連續 國立 海洋生物 博物館 合作 海龜 生態 保育 計畫 計畫 期間 海生 野放 因救傷 照護 恢復健康 瀕臨絕種 保育 海龜 重返 海洋 懷抱 此項 保育 計畫 包括 四大 系列 海龜 救傷 醫療 校外 教學 課程 海龜 野放 活動 海角 秘境 生態 年來  響應 海龜 野放 活動 系列 規劃 海龜 救傷 解說 照護 課程 參訪 海龜 收容 中心 海巡 合作 海龜 野放 海角 秘境 生態 系列 帶領 民眾 海龜 收容 中心 參訪 導覽 解說 一同 邀請 興趣 成為 海洋環境 教育 種子 教師 及民眾們 參加 希望 提升 國人 海洋 生態 環境保護 關注 值得一提的是 玉山 海生 合作 海龜 生態 保育 計畫 教育部 國家 科學 技術 委員會 主辦 第三屆 臺灣 科學 海生 臺南市 美術館 推出 城市 遇見 海生 展覽 海洋 保育 展區 展出 玉山 海生 近年來 合作 生態 保育 成果 增進 民眾 海龜 海洋生物   玉山 志工 陪伴 安排 玉山 黃金 種子 計畫 學校 台南 省躬國  師生 校外 教學 參觀 城市 遇見 海生 展覽 藉由 館藏 搭配 海洋環境 教育 解說 鼓勵 學童 懂得 珍惜 海洋資源 玉山 長期 關注 海洋 生態 保育 生物 多樣性 議題 主動 響應 國際 國內 永續 包括 美麗 臺灣 smile 玉山 淨灘 清掃 活動 林務局 推動 海岸 造林 計晝 聚焦 物種 保育 棲地 維護 環境 永續 主軸 包括 支持 海龜 臺灣 黑熊 北極熊 蝴蝶 瀕危 物種 保育 號召 玉山 金控 銀行 證券 同仁 家屬 顧客 響應 期望 發揮 企業 影響力 台灣 永續 地球 一份 心力  FinTech Taipei 台北 金融 科技展  世貿中心 展覽 一館 開幕 玉山 銀行 暢遊 美好 數位 生活 主軸 規劃 數位 銀行 智能 金融 多元 支付 三大 展區 連結 數位 服務 創新 科技 顧客 生活 場景 玉山 銀行 攜手 全家 便利商店 PChome 集團 首選 夥伴 合資 打造 全新 電子 支付 全盈 PAY 零售 生態圈 創新 商業模式 榮獲  台北 金融 科技獎 共創 典範 殊榮 零售 生態圈 創新 商業模式 金融服務 嵌入 高頻 會員 生活 場景 玉山 銀行 輕鬆 Simple 流暢 Smooth 貼心 Sweet S 服務 原則 提供 玉山 全家 PChome 超過 千萬名 會員 流暢 數位 金融 新體驗 顧客 結帳 得知 全盈 PAY 綁定 玉山 數位 卡享 % 回饋 透過 全盈 PAY 線上 辦卡 串聯 玉山 即時 核卡及 專利技術 分鐘 即可 信用卡 核卡 綁定 支付 結帳 透過 全盈 PAY 線上 開戶 串聯 玉山 一站式 開戶 服務 重覆 各項 表單 填寫 即可 外幣 帳戶 玉山 證券 帳戶 委託 金融 信用卡 Fingo 會員 多元 產品 申請 開戶 流程 自動 電子對 帳單 約定 並可 申請 信用卡 帳單 綁定 開立 數位 帳戶 自動 扣繳 玉山 銀行  FinTech Taipei 台北 金融 科技展 展覽 現場 多元 支付 呈現 零售 生態圈 場景 展出 全家 便利商店 全新 服務 FamiMobi 零售 電動車 民眾 現場 體驗 流暢 便捷 數位 金融服務 透過 全盈 PAY 玉山 Wallet 玉山 電支 多元 支付 體驗 現金交易 領取 全家 電子 禮券 享有 現場 消費 領取 隨機 折扣 折抵 還可享 指定 商品 買一送一 優惠 玉山 致力 人工智慧 AI 提供 溫度 速度 準度 數位 服務 現場 智能 金融區 介紹 賦能 風控 流程 行銷 服務 領域 AI 提供 現場 體驗 智能 投資 健檢 房屋 價值 試算 玉山 數位 金融 品牌 Fingo 整合 系列產品 服務 數位 銀行 提供 互動 體驗 全新 推出 玉山 Fingo 會員 等級制度 顧客 交易 享受 更好 回饋 民眾 可於 活動 現場 參加 金融 知識  快問 快答 挑戰 蒐集 印章 獎勵 Fingo 會員 點數 序號 兌換 好康 誠摯 邀請 民眾 親臨現場 體驗 返回 國泰 世華好 聯名卡 合約 屆期 聲明 國泰 世華 銀行 好市 Costco 聯名卡 合約 將於  屆滿 感謝 聯名 卡卡 長期以來 支持 愛護 國泰 世華 走過 美好 十年 經營 下好市 聯名卡 數從   至今 突破  萬成 全台 第一 零售 通路 聯名卡 延續 好市 聯名卡 合作 關係 本行 竭盡 努力 誠意 遺憾 未能 續約 合約 期滿 聯名卡 相關 權益 不受 影響 聯名卡 好市 賣場 商家 屆時 完之 多利 金將 聯名 卡卡 轉換 刷卡 折抵 信用卡 帳單 聯名 卡卡 持續 維護  萬名 國泰 世華 Costco 聯名 卡卡 權益 提供 優質 消費 優惠 國泰 世華將 推出 聯名卡 轉換 CUBE 方案 並將 近日 陸續 寄發 聯名卡 換發 CUBE 通知函 新卡 優惠 升級 內容 邀請 聯名 卡卡 一同 感受 CUBE 四大 權益 天天 切換 % 回饋 上限 魅力 國泰 世華 共創 極致 消費 體驗 卡友 換發 CUBE  天內 任刷 消費 持有 國泰 世華 CUBE App 原網 App 享首 刷禮  小樹 信用卡 轉換 CUBE 方案 細節 詳見 本行 換卡 網頁 https www cathaybk com tw cathaybk promo event credit card product costco newstart index html  備註 多利 轉換 比例 多利 刷卡 CUBE % 回饋 上限 小樹 信用卡 回饋 小樹 信用卡 新臺幣 持有 國泰 世華 CUBE App 係指 卡持卡 持有 CUBE App 帳號密碼 謹慎 理財 信用 無價 信用卡 預借 現金 級別 循環 信用 年利率 .  本行 信用 評分 制度 定期 評估 循環 利率 基準日  預借 現金 手續費 預借 現金 金額 乘以 加上 新臺幣  美元 相關 費用 本行 網站 公告 返回  國泰 永續 金融 氣候變遷 高峰 論壇     登場 獨家 雙語 轉播 埃及 COP 週邊峰 董事長 宏圖 國際 發聲 暢談 永續 金融 世界 走進 台灣 聯合國 氣候變化 大會 COP  埃及 登場 氣候 議題 已成 風險 台灣 零時 參與 國際 氣候 盛會 接軌 國際 最新 趨勢 國泰 金控 證交所 再次 攜手 舉辦  國泰 永續 金融 氣候變遷 高峰 論壇 活動 將於     實體 同步 盛大 展開 國泰 秉持 帶領 台灣 走入 世界 世界 走進 台灣 理念 論壇 期間 獨家 轉播 埃及 COP 週邊 會議 世界 氣候 高峰 World Climate Summit WCS 連續 六年 舉辦 國泰 永續 金融 氣候變遷 高峰 論壇 已成 台灣 氣候變遷 交流平台 YouTube 線上 直播 實體 論壇     獨家 中英文 雙語 轉播 世界 氣候 高峰 WCS WCS 官方 企業 深化 合作 COP 週邊 首要 論壇 國泰 金控 董事長 宏圖 總經理 李長庚 獲邀 參與 世界 氣候 高峰 WCS 國際 社會 分享 台灣 金融業 戮力 邁向 決心 經驗 WCS 匯集 國際 永續 領域 專家學者 機構 投資人 國際 規則 制定者 分享 前瞻 觀點 重磅 陣容 聯合國 減少 災害 風險 辦公室 UNDRR 主管 Loretta Hieber Girardet 機構 投資人 氣候變遷 聯盟 IIGCC 執行長 Stephanie Pfeifer 國際 揭露 計畫 CDP 影響力 總監 Nicolette Bartlett 氣候 債券 倡議 組織 CBI 創辦人 執行長 Sean Kidney 聯合國 減少 災害 風險 辦公室 Chief of Risk Knowledge Monitoring and Capacity Development Branch United Nations Office for Disaster Risk Reduction UNDRR 機構 投資人 氣候變遷 聯盟 The Institutional Investors Group on Climate Change IIGCC 國際 揭露 計畫 Carbon Disclosure Project CDP 氣候 債券 倡議 組織 Climate Bonds Initiative CBI 國泰 金控 領頭 國際 發聲 董事長 宏圖 將於   世界 氣候 高峰 WCS 發表 金融 轉型 創新 金融 商業模式 帶動 關鍵 淨零 影響 專題 演說 分享 全球 氣候變遷 排放 生物 多樣性 浪潮 金融機構 勇於 跳脫 既有 框架 利害 關係人 攜手 共創 氣候 金融 創新 解方 促成 經濟 零碳 轉型 總經理 李長庚 暢談 國泰 潔淨 能源 投資 策略 打造 氣候 解決方案 分享 國泰 透過 前瞻 布局 多元 金融 核心 職能 支持 再生能源 發展 並與 價值鏈 夥伴 合作 達成 創新 突破 實踐 國泰 永續 金融 精神 轉播 WCS 部份 精彩 議程   論壇 第二日 台北 國泰 金融 會議廳 舉辦 實體 論壇 邀集 國內外 產官 學界 重量級 領袖 分享 台灣 產業 夥伴 探索 淨零碳排 路徑 挑戰 策略 包括 金管會 主委 天牧 國發 主委 龔明鑫 證交所 董事長 林修銘 中華經濟 研究院 院長 張傳章 重量級 嘉賓 都將 出席 從實 務面 揭露 台灣淨 零之路 提供 產業界 因應 解方 透過 領域 創新 思維 跨國 最新 趨勢 啟發 台灣 產業 堅守 企業 使命 強化 氣候 佈局 永續 未來 國泰 永續 金融 氣候變遷 高峰 論壇 現已 開放 報名 邀請 台灣 企業 與民眾 勇敢 淨零 報名 機會 iPad mini 捷安特 節能 自行車 夏普 電扇 好禮 參與 論壇 亦可 認列 上市 上櫃 公司 董事 監察 進修 時數 關注 永續 發展 企業 領袖 共襄盛舉 精彩內容 詳見 活動 官網 https event gvm com tw CathaySummit  返回 國泰 金控 金融 科技 發展 蟬聯 數位 金融 贏家 疫情 反覆 金融 科技 生活 場景 無所不在 工商時報 第二屆 數位 金融 獎今 舉辦 頒獎典禮 國泰 金控 旗下 包括 國泰人壽 國泰 產險 國泰 證券 國泰 投信 連續 兩年 肯定 勇奪  大獎 肯定 包括 數位 普惠獎 數位 資訊 數位 創新獎 數位 業務 優化 獎等 各大 獎項 國泰人壽 富民 副總 國泰 產險 信良 督導 吳香妮 督導 國泰 證券 周冠成 總經理 國泰 投信 張雍川 總經理 多位 主管 出席 領獎 國泰 金控將 持續 引領 金融 科技 發展 重塑 數位 體驗 服務 流程 國泰人壽 數位 金融 數位 普惠獎 數位 創新獎 數位 業務 優化 三項 金質獎 肯定 面對 疫情 衝擊 國泰人壽 資金 需求 保戶 即時 申辦 借款 外出 接觸 經濟 弱勢 專案 開辦 簡化 線上 保單 貸款 流程 步驟 三分鐘 即可 線上 借款 經濟 弱勢 族群 度過 疫情 難關 客戶 疫情 之下 快速 便利 補強 保障 缺口 國泰人壽 重塑 數位 時代 保險 購買 旅程 體驗 因應 數位 客群 購買 保險 痛點 保費 太貴 資訊 繁雜 商品 只能 業務員 推出 貼近 需求 專屬 商品 自由 提供 保障 保費 透明 組合 簡單 保險 服務 通路 接觸 模式 已成 生活 常態 國泰人壽 推出 業務 平台 支援 業務員 居家 辦公 領先 業界 推出 CVX 泰好 遠距 服務 平台 客戶 分隔 兩地 保險 服務 依然 即時 國泰 產險 展現 金融 科技 實力 一舉 拿下 數位 創新獎 數位 資訊 獎及 數位 業務 優化 三項 金質獎 優異 表現 更勝 去年 產險 業之冠為 帶給 客戶 細緻 溫度 保險 服務 國泰 產險  數位 轉型 工程 致力於 優化 發展 客戶 數位 服務 體驗 打造 業界 第一個 電商 投保 平台 BeSafe 出門 建置 多元 場景 設計 保險 商品 讓民眾 透過 購物車 一站式 選購 保障 國泰 產險 持續 數位 轉型 翻轉 業務 推出 創新 商品 優質服務  上線 智能 客服 機器人 阿發 提供  小時 不間斷 服務 亦可 道路 救援 服務 線上 申請 因應 金融市場 數位 科技 需求 產險 公會 召集 國內  家產 同業 區塊 延伸 產險 實務 作業 首獲 主管機關 同意 試辦 產險 聯盟 區塊 鏈此 聯盟 區塊 透過 國泰 產險 借助 國泰 金控 創立 國內 首個 區塊 團隊 加速 資訊 共享 保險 服務 數位化 發展 創造 政府 產險 公司 保戶 三贏 局面 國泰 證券 榮獲 數位 業務 優化 金質獎 數位 普惠 優質 數位 資訊 優質 來自 客戶服務 承諾 初心 國泰 證券 周冠成 總經理 國泰 證券 推出 各項 數位 服務 基點 客戶 迫切需要 解決 投資 痛點 始終 聆聽 客戶 心聲 持續 提供 更好 服務 體驗 市場 影響力 聲量 聲量 來自 客戶 肯定 期許 將成 鞭策 國泰 證券 數位 團隊 業務 精進 致力 提供 客戶 最佳 數位 投資 體驗 動力 國泰 證券 數位 轉型  推出 業界 首家 無須 透過 視訊 認證 線上 開戶 App 拓展 接觸 視角 優化 持續 國泰 證券 App 整合 選股 抽籤 功能 並新 增設 定期 投資 專區 一指 搞定 投資 旅程 中後端 大小事 流暢 數位 服務 體驗 重視 小額 投資者 需求 台股 定期 定額 穩居 客戶 基礎 美股 小額 投資 服務 力道 面對 層出不窮 資安 挑戰 國泰 證券 依循 證券商 資通 防護 機制 及金 融資 方案 採用 第一級 券商 規格 資安 提早 達成 融資 方案 推動 相關 計畫 提供 客戶 有效率 數位 證券 資訊 平台 環境 國泰 投信 榮獲 數位 資訊 金質獎 業務 優化 優質 綠色 金融 優質 國泰 投信 總經理 張雍川 金融 科技 發展 如火如荼 特別 看重 數位 金融 責任 投資 資安 韌性 三面 數位 金融 公司 科技 綠地 全面落實 綠色 營運 陸續 導入 智能 客服 系統 RPA Robotic Process Automation 自動化 內部 流程 提供 數位 帳單 ETF 電子 配息 通知 數位 服務 攜手 國泰 證券 聯合推出 ETF IPO 期間 即可 線上 申購 新穎 機制 免除 過往 投資人 需至 券商 據點 申購 紙本 作業 透過 上化 加快 申購 便捷 服務 流程 數位化 落實 綠色 營運 責任 投資 透過 倡議 ESG 低碳 投資 開發 綠色 基金 產品 包括 國泰 永續 股息 ETF 基金 配息 來源 收益 平準 證券 代碼  國泰 美國 ESG 基金 帶動 台灣 ESG 投資 熱潮 公司 強化 資訊 管理 建立 可信賴 資訊 作業 環境 確保 資訊 資產 機密性 完整性 可用性 適法性 國際 公認 第三方 驗證 機構 英國 標準 協會 BSI 資安 驗證 肯定 ISO 認證 資安 防護 肯定  基金 ESG 資訊 投資人 應於 申購 詳閱 基金 公開 說明書 投資人 須知 所載 基金 特色 目標 資訊 相關 資訊 請參閱 國泰 投信 官方網站 https www cathaysite com tw 國泰 永續 股息 國泰 台灣 ESG 永續 股息 ETF 基金 基金 配息 來源 收益 平準 證券 簡稱 證券 代碼  本文 得獎 資料 來源 工商時報   欲了解 國泰 投信 完整 得獎 榮耀 查詢 https www cathaysite com tw about us awards 媒體 若將 新聞稿 公司 公開 資料 為主 誇大 不實 報導 公司 基金 金管會 核准 同意 生效 基金 絕無 風險 公司 以往 經理 績效 保證 基金 最低 投資收益 公司 除盡 善良 管理 義務 負責 基金 盈虧 保證 最低 收益 投資人 申購 前應 詳閱 基金 公開 說明書 投資人 可向本 公司 基金 銷售 機構 索取 基金 公開 說明書 簡式 公開 說明書 公司 網站 www cathayholdings com funds 公開 資訊 觀測站 自行 下載 基金 負擔 費用 揭露 基金 公開 說明書 投資人 可至 公開 資訊 觀測站 查詢 本文 提及 經濟 走勢 預測 代表 基金 績效 基金 投資 風險 詳閱 基金 公開 說明書 國泰 台灣 ESG 永續 股息 ETF 基金 基金 配息 來源 收益 平準 之配 息率 代表 基金 報酬率 息率 代表 未來 息率 基金淨值 市場 因素 波動 基金 配息 基金 收益 平準 金中 支付 涉及 收益 平準 支出 導致 原始 投資 金額 減損 配息 項目 相關 國泰 投信 網站 基金 掛牌 日前 當日 經理 公司 接受 基金 受益權 單位 數之 買回 本文 所稱 基金 證券 並非 MSCI 贊助 背書 推廣 MSCI 基金 證券 基金 證券 基於 指數 承擔 責任 基金 公開 說明書 載有 MSCI 國泰 投信 之間 有限 關係 相關 基金 詳細 描述  返回 國泰 金控 市府 AWS 打造 高雄 國泰 AWS 國際金融 創新 中心 聚焦 創新 實證 人才 培育 助高雄 發展 雲端 金融 創新 培育 雲端 金融 科技人才 發展 金融 創新 國泰 金控 高雄市 政府 亞馬遜 網路 服務 Amazon Web Services AWS  AWS 高雄 雲端 產業 峰會 宣布 啟動 高雄 國泰 AWS 國際金融 創新 中心 KACIFIC 計畫 規劃 系列 國際 雲端 金融 科技人才 培育 新創 企業 創新 實證 專案 領先 雲端 金融 科技 發展 前瞻性 全球 市場潛力 產業 創新 國泰 金控 宣布 亞灣 成立 資訊 開發 中心 帶動 亞灣 發展 國際金融 創新 科技 高雄 市長 邁今 出席 這項 金融 創新 合作 啟動 儀式 致詞 各國 金融 重鎮 交通 貿易 樞紐 產業 發展 而來 正是 高雄 雲端 運算 發展 產業 金融 科技 絕佳 機會 指出 KACIFIC 計畫將 創新 資安 保險 綠色 金融 供應鏈 貿易 金融 全球 前瞻性 金融 雲端 數位 創新 高雄公 部門 產業 合作 導入 驗證 其邁 指出 亞灣 兩年 成功 吸引 AWS 精誠 微軟 高通 電信 平台 雲端 系統 整合 創新 服務 領域 大廠 進駐 帶動 相關 投資 產業鏈 群聚 接下來 發展 國際金融 科技 金融業 龍頭企業 國泰 金控 宣布 亞灣 成立 資訊 開發 中心 為亞灣 G AIoT 國際 聯盟 增添 夥伴 並與 市府 AWS 合作 打造 國際金融 創新 中心 帶動 高雄 國際金融 創新 科技 發展 國泰 金控 總經理 李長庚 近年 國泰 金控 集團 數位 轉型 累積 金融 科技 力量 持續 力量 地方 協作 產業 發展 台灣 創造 就業機會 高雄市 AWS 合作 國泰 榮幸 成為 第一家 灣區 金融業 資訊 開發 中心 期待 透過 三方 合作 高雄成 金融 創新 絕佳 試驗場 也將 培養 技術 人才 視角 台北 拉至 全台灣 這次 希望 針對 學生 年輕人 培養 具備 雲端 能力 高雄 資訊 開發 中心 當作 國泰 金控 雲端 開發 基地 希望 未來 三年 招募 百位 雲端 技術 人才 期待 夥伴 高雄 共創 未來 金融 樣貌 AWS 台灣 香港 總經理 王定 AWS 支持 高雄市 政府 推動 G AIoT 智慧 轉型 政策 年來 一步 腳印 持續 高雄 投入 資源 繼高雄 AWS 雲端 聯合 創新 中心 於今 成立 首創 AWS Outposts 架構 城市 混合 於今 引進 高雄 新創 企業 不必 北上 透過 雲端 連結 全世界 此次 AWS 攜手 高雄市 政府 國泰 金控 高雄 成立 高雄 國泰 AWS 國際金融 創新 中心 KACIFIC 旨在 透過 人才 培育 新創 支持 產業 數位 創新 轉型 進一步 有志 青年 免北 騰高 雄能 出海 高雄 發展 半導體 G AIoT 領域 金融 科技領域 領先 創新 進一步 吸引 多元 人才 進駐 高雄 引領 新創 企業 轉型 出海 市府 經發局 廖泰翔 指出 KACIFIC 計畫將 國泰 金控 提供 海內外 發展 金融 科技 專業 經驗 多元 實習 就業機會 AWS 提供 人才 培育 新創 支持 產業 數位 創新 轉型 高雄 AWS Outposts 國際 雲端 資源整合 市府 產業 金融 創新 實證 專案 大專院校 位與 金融 科技人才 培育 課程 支持 高雄 指標 企業 合作 貿易 金融 供應鏈 金融 智慧 工安 國際 物流 付與 跨境 匯款 資安等 創新 主題 領域 發展 產業 實證 創新 服務 廖泰翔 未來 KACIFIC 計畫將 教育 機構 合作 導入 AWS Educate Academy 雲端 教育資源 國泰 金控 金融 科技 課程 人才 獲取 前瞻 培訓 資源 高雄 半導體 G AIoT 兩大 產業 發展 主軸 疊加 金融 科技 領先 創新 帶動 多元 人才 資金 落地 高雄 創造 金融 科技 創新 工作 機會 創新 服務 驗證 出海 合作 教學 創新 轉型 相關 需求 可洽 計畫 網站 https reurl cc QWj  返回 道路 救援 call 阿發 國泰 產險 首創 智能 客服 申請 道路 救援  小時 全年 無休 免登入 步驟 申請  國泰 產險 統計資料 顯示 汽車 車險 保戶 符合 道路 救援 資格 將近 % 駕駛 道路 救援 服務 惟常 馬路 噪音 干擾 通話 服務 電話 不通 等待時間 久等 解決 痛點 國泰 產險 智能 客服 阿發 道路 救援 服務 上免 登入 會員 透過 手機 輸入 車牌號碼 電話 姓名 三項 資料 即時 發送 需求 客服 電話 暢通 客服  分鐘 回電 確認 地點 救援 車款 安排 拖吊車 前往 服務 拖吊 外代 送油 加水 更換 備胎 接電 啟動 服務 透過 阿發 呼叫 服務 即時 查詢 救援 進度 路況 不再 驚慌 國泰 產險 全鋒 事業 合作 推出 產險 業界 首創  小時 全年 無休 智能 客服 申請 道路 救援 服務 自即日起 民眾 愛車 臨時 道路 救援 透過 國泰 產險 智能 客服 阿發 即時 便利 道路 救援 服務 投保 國泰 產險 乙丙 車體 即可 享有  公里 免費 道路 救援 服務 相關 道路 救援 服務項目 國泰 產險 官網 查詢 保戶 服務 選擇 道路 救援 相關 服務 即可 國泰 產險 網址 https www cathay ins com tw cathayins personal 備註 國泰 產險 指出 智能 客服 阿發 新增 道路 救援 服務 希望 提供 跨域 跨業 場景 數位 服務 管道 多樣化 加值 服務 阿發 即時 互動性 特質 即時 簡易 對話 提供 客戶 訊息 操作 方式 提升 體驗 客戶 多元 需求 國泰 產險 秉持 集團 勇敢 精神 保險 科技 創新 用戶 體驗 致力 提供 優質 數位 服務 體驗 推出 業界 首創 電商 保險 體驗 平台 BeSafe 出門 碎片 組合 保險 進階 體察 駕駛 需求 本次 國泰 產險 智能 客服 新增 道路 救援 服務 客戶 隨時隨地 透過 國泰 產險 官網 LINE 官方 帳號 線上 申請 期待 提供 大眾 優質 便利 數位 服務 體驗  備註 道路 救援 國泰 產險 公司 委託 合作 廠商 加值 服務 非屬 保險 契約 權利 義務 返回 國泰 新花樣 金融 自由 聽不膩 數錢聲 實體化 Gold Noise 登陸 台北 金融 科技展 國泰 金控 致力 推動 數位 轉型 創新 金融 體驗 強勢 回歸 實體 台北 金融 科技展 玩轉 金融 生活 主題 金融 商品 數位 自由 跨界 創新 提供 客戶 生活 消費 投資 理財 出遊 保險 面向 享有 優質 一站式 創新 數位 金融 體驗 國泰 金控 整合 集團 資源 現場 展出 國泰 金控 公司 創新 多元 數位 金融服務 國泰 世華 數位 服務 入口 CUBE App 民眾 CUBE App 單一 平台 轉帳 交易 生活 繳費 手機 提款 信用卡 服務 貸款 申請 投資 保險 各式 金融 需求 本身 CUBE App 愛用者 超人氣 網紅 焦凡 死角 女神 胡祖薇將 現身 國泰 展區 互動 民眾 闖關 參與 問答 將有 機會 限量 親筆簽名 今年初 社群 掀起 網友 瘋狂 討論 國泰 世華 貨幣 音樂創作 Gold Noise 系列 首次 實體化 國泰 金控展 打造 專屬 沉浸 視聽室 現場 體驗 數鈔 樂趣 展覽 內容 國泰 金控 金融 科技 努力 第一屆 台北 金融 科技獎 肯定 奪下 國際 市場潛力 共創 典範 獎雙項 大獎 國泰 金控 針對 越南 保險 需求 高速成長 三分鐘 投保 訴求 國泰 產險 打造 數位 投保 流程 SAG Smart Agent Go 大幅 縮短 服務 客戶 時效性 上線 一年 累積  萬件 保單 國泰人壽 攜手 國泰 金控 創新 核保 技術 建構 升級 核保 AI 醫療 影像 AI 技術 輔助 胸部 X光 判讀 AI 醫療 影像 技術 保險 流程 大幅 節省 醫生 時間 保險 醫療 生態系 發展 重大突破  要點 打造 健康 職場 元大金控 集團 屢獲 運動 企業 認證 肯定 元大金控 集團 員工 嚮往 卓越 職場 實踐 永續 發展 員工 健康 企業 永續 經營 重要一環 元大 集團 致力 維護 職場 同仁 健康 金控 子公司 推動 多元 健康 活動 如健 跳繩 項目 整合 內外部 資源 提供 同仁 專業 醫療保健 健康 諮詢服務 創造 健康 職場 員工 企業 雙贏 職場 運動 風潮 提升 健康 勞動力 元大金 控元大 銀行 及元大 人壽 再次 教育部 體育 頒發 運動 企業 認證 標章 肯定 金融業 知識 人力資本 密集 金融 服務業 員工 承受 工作 壓力 元大金控 因應 三高 肩頸酸動 久坐 所致 健康 痛點 職安 專責 人員 推廣 運動 概念 減重 活動 以要 切合 門檻 三大 要點 提高 同仁 參與 動機 參與感 以健 活動 為例 疫情 期間 元大金控 號召 同仁 落實 防疫 維護 透過 規律 運動 強化 免疫 健康  為期 兩周 雲端 智能 健走 活動 參與率 高達 % 總健 距離 千公里 環台  大金控 鼓勵 員工 成立 各類 有益 身心健康 分享 交流 社團活動 工作 生活 上能 均衡 樂活 共有 健康 體適 能社 籃球 羽球 瑜伽 社等 八個 健康 社團 社團 總數 成元大 銀行 特聘 專任 體適 教練 醫護人員 設計 專屬 健康 體適 專案 運動 效益 健康 管理 健康 方案 鼓勵 員工 養成 運動 習慣 整體 身心健康 每月 發送 健康 電子報 藉此 提升 同仁 健康 意識 累積 健康 資產  辦理 多場次 健康 體重 管理 活動 提升 代謝 居家 運動 運動 營養 運動 伸展 及線 直播 運動 課程 一對一 運動 教練 線上 諮詢 同仁 在家 運動 習慣 活動  人次 參與 成功 減重  公斤 每人 一週 平均 增加  分鐘 運動 時間 元大 人壽 不定期 舉辦 健康 課程 講座 推出 樂活 課程 鼓勵 同仁 成立 參與 公司 各項 運動性 社團 登山 慢跑 桌球 熱舞 社等 養成 運動 習慣 元大 人壽 業界 首家 推動 部門 主管 參與 核心 肌群 訓練 課程 壽險 公司 推動 健康 管理 上除 提供 員工 定期 健康檢查 提供 健康 諮詢服務 衛教 宣導 鼓勵 BMI 值過 同仁 參與 公司 舉辦 減重 活動 元大金控 職安衛 評比 排名 % 打造 健康 職場 勞動部 表揚 職場 員工 健康 現今 企業 永續 經營 一環元 大金控 致力 打造 友善 優良 工作 環境 子公司 元大 期貨 雙雙 勞動部 職業 衛生署 辦理 企業 永續 報告 公開 職業 健康 指標 主動 評比 試辦 計畫 獲評 % 績優 企業  企業 脫穎而出 表現 亮眼 元大金 控元大 期貨 % 績優 企業 職場 永續 健康 國際交流 研討會 接受 勞動部 職安署 表揚 元大金控 代表 金融業 績優 企業 分享 職場 健康 展現 最佳 實務 承諾 健康 永續 程序 展現 企業 責任 致力 推動 身心健康 方案 優於 法令 福利 措施 提供 員工 友善 優良 工作 環境 全力 打造 員工 嚮往 卓越 職場 金融業 政府 高度 管理 特許 行業 員工 承受 工作 壓力 元大金控 長期 關懷 員工 身心 狀況 集團  陸續 導入 ISO  職安衛 管理系統 驗證 涵蓋 營運 據點 對象 包含 全體 員工 承攬 針對 間接 威脅 員工 危害 風險 像是 通勤 交通事故 肌肉 骨骼 痠痛 代謝 症候群 壓力 提前 訂定 預防 方案 改善 措施 辦理 體適 課程 提供 健康 諮詢服務 元大金控 內部 組織 工作面 生活 健康 外部 資源 五大 面向 推動 員工 協助 方案 EAPs 開設 情緒 守門人 訓練 課程 建置 運動 門診 建構 職場 支持性 網絡 並與 外部 非營利 專業 心理 諮商 機構 合作 提供 員工 付費 諮詢服務 藉由 諮詢 專線 心理 一對一 晤談 方式 協助 員工 解決 家庭 人際關係 法律 相關 照護 員工 生理 心理 提供 安心 可靠 職場 疫情 肆虐 全球 之際 元大金 控率 全台 金融業 先導 ISO PAS  COVID  疫情 期間 工作 指引 嚴格執行 相關 規範 英國 標準 協會 BSI 驗證 疫情 期間 同步 確保 客戶 權益 員工 身心健康 作為 統計 感染 新冠 肺炎 患者 中有 % % 情緒 緊張 專注 下降 睡眠 品質 不佳 疲勞 倦怠 等長 新冠 後遺症 元大金控 整合 資源 推動 集團 染疫 康復者 職場 照護 計畫 員工 健康 需求 提供 臨場 及線 諮詢服務 成為 員工 堅實 後盾 元大金 控將 ESG 理念 融入 營運 策略 公司 治理 客戶 權益 員工 照護 環境 永續 社會 公益 五大 面向 實踐 永續 發展 貫徹 永續 DNA 後代 推動 更好 未來 推展 職場 健康 元大 人壽 運動 企業 認證 肯定 元大 集團 重視 員工 照顧 正向 發展 致力 打造 友善 健康 職場 鼓勵 同仁 參與 各項 運動 社團 賽事 員工 企業 雙贏 延續 集團 理念 元大 人壽 持續 推展 健康 職場 衛福部 國健署 頒發 健康 職場 認證 健康 啟動 健康 獎章 再次 教育部 體育 運動 企業 認證 標章 顯示 元大 人壽 關注 員工 身心健康 運動 企業 提供 員工 一個 健康 安心 工作 環境 年來 元大 人壽 推動 環境 並計 畫性 推廣 職場 健康 活動 主管 做起 業界 首家 推動 部級 主管 參與 核心 肌群 訓練 課程 壽險 公司 鼓勵 同仁 養成 運動 習慣 透過 開辦 多元 健康 樂活 課程 同仁 親身 體驗 找出 喜愛 運動 方式 健康 不定期 健康 講座 透過 專家 提供 同仁 健康 保健 知識 推動 員工 健康 自主 管理 上除 提供 定期 健康檢查 同仁 了解 體況 提供 健康 諮詢服務 衛教 宣導  導入 員工 協助 方案 EAPs 透過 系統 建置 專業 服務 提供 心理諮詢 法律諮詢 醫療 防治 照護 諮詢 自我 量測 五大 主題 協助 員工 找出 工作 生活 遭遇 解決 員工 心靈 支持 照顧 鼓勵 BMI 值過 同仁 減重 公司 舉辦 減重 活動 同仁 隨時 自我 健康 時時 最佳 狀態 元大 人壽 鼓勵 員工 自主 成立 運動 社團 志同道合 工作 夥伴 運動 公司 社團 類型 戶外 運動 社團 為主 包括 登山 桌球 熱舞 社健 走社 籃球 單車 核心 肌擊社 希望 同仁 下班 志同道合 同事 參與 健康 活動 強健 身心 員工 企業 資產 三分之一 時間 辦公室 關懷 員工 健康 企業 責任 未來 元大 人壽 仍將 持續 照護 全體 員工 心靈 健康 目標 員工 齊心戮力 打造 元大 人壽 成為 專業 活力 禮貌 健康 企業 元大金控 攜手 供應商 建構 永續 供應鏈 淨零碳排 日常 做起 推廣 綠色 企業 文化 元大金控 集團 深耕 ESG 環境 社會 公司 治理 作為 績效 有目共睹 金管會 邀請 永續 金融 先行者 聯盟 肩負起 領頭 大雁 責任 引領 國內 企業 成長 元大金控 發揮 價值鏈 影響力 日為 年度 第三場 供應商 大會 主題 為淨 零碳排 日常 做起 邀請 供應商 夥伴 東宜 資訊 股份 有限公司 安永 聯合 會計師 事務所 講師 分享 ESG 成果 國內外 綠色 採購 趨勢 透過 經驗交流 攜手 供應商 一同 邁向 永續 發展 強化 供應商 之議 合元 大金控 連續 四年 供應商 大會 推動 ESG 共好 針對 環境 人權 永續 議題 溝通 教育 訓練 並以 ISO  永續 採購 驗證 為準 供應商 簽署 元大金控 永續 採購 指南 元大金控 供應商 年度 評鑑 評鑑 分為 優良 合格 觀察 等級 供應商 大會 頒發獎狀  優秀 廠商 代表 安永 會計 資深 顧問 大會 國內外 綠色 採購 趨勢 介紹 國內 各式 環保 標章 企業 透過 優先 環境 友善 產品 服務 採購 帶動 綠色 產業 發展 綠色 經濟 循環 朝淨 零減 永續 發展 目標 推進 統計 去年 政府 民間團體 綠色 採購 金額  元大 供應商 夥伴 東宜 資訊 股份 有限公司 分享  導入 薪資 作業 協助 客戶 導入 能源 系統 方案 大金控 綠色 企業 文化 相互 呼應 透過 永續 供應鏈 管理 供應商 一同 推動 永續 發展  風雨無阻 元大 輔大 夢想 起飛 一步 腳印 陪伴 偏鄉 學子 築夢 踏實 元大金控 文教 基金會 長期 深耕 社會 公益 致力 助學 育才  輔仁大學 推動 元大 輔大 夢想 起飛 偏鄉 人才 培育 計畫  年來 風雨無阻 一步 腳印 陪伴 偏鄉 學子 築夢 踏實 日前 計畫 合作 學校 桃園市 新屋 高中 舉辦 元大 理財 分享 活動 邀請 元大金控 集團 同仁 擔任 講師 透過 互動 遊戲 學生 風險 風險管理 加深 理財 觀念 分享 求學 求職 經驗 拓展 學生 職涯 想像 學生 好評 異口同聲 受益 良多 元大 文教 基金會 指出 態度 高度 高度 拓展 人生 寬度 鼓勵 學生 嘗試 持續 學習 一步 一步 墊高 風景 新屋 高中 校長 大魁 人生 是場 無限 賽局 時間 參賽 名額 終極目標 更好 勉勵 同學 無限 思維 參加 活動 學習 形塑出 未來 樣子 來自 證券 期貨 一群 專業 熱誠 理財 講師 引用 股神 巴菲特 Warren Buffett 名言 風險 來自 開場 點出 風險管理 重要性 棉花 挑戰 遊戲 拉開序幕 傳達 團隊 合作 觀念 帶領 學生 針對 科系 規劃 像是 學期 充實 自我 累積 專業知識 達成 設定 目標 分享 職涯 經驗 投信 邱姓 講師 認為 一堂 理財 背後 蘊含 意義 觸發 孩子 未來 想像 現場 並有 領過 輔大 夢想 起飛 助學金 同學 就讀 新屋 高中 三年級 同學 原本 立定 志向 要朝 金融業 發展 課程 洗禮 實踐 目標 決心 活動 邀請 新屋 高中 校友 專業 活動 主持人 Dibe 回校 分享 護理 專業 發展 主持 專才 斜槓 人生 透露 中時 若能 類似 課程 職涯 發展 順遂 元大 文教 基金會 秉持 取之於 社會 用之於 社會 精神 長期 協助 弱勢 就學 輔大 攜手 打造 夢想 起飛 公益 服務 計畫 保障 學生 公平 高品質 權益 提供 偏鄉 弱勢 地區 有心 向學 孩子 堅實 後盾 至今 協助  人次 一個 起飛 夢想 充滿希望 力量 CSA 評選 出爐 元大金居 綜合 金融 組全台 第一 ESG 卓越 績效 有目共睹 永續  標普 全球 企業 永續 評比 Global Corporate Sustainability AssessmentCSA 台北 時間   公布 最新 評選 元大金控 標準普爾公司 瑞銀 集團 UBS 國際 企業 並驅爭先 公布 成績 企業 當中 暫居 綜合 金融 組第 全台 第一 總共  項題 組中近 成題 同組 最高分 包含 議題 風險管理 普惠 金融 客戶關係 彰顯 元大金 控以 高度 執行力 落實 ESG 社會 環境 公司 治理 舉措 博得 口碑 深獲 國際 機構 高度肯定 標普 全球 企業 永續 評比 全球 知名 永續 發展 評級 指標 國際 最具 代表性 永續 評比 連結 道瓊 永續 指數 DJSI 成分股 針對 全世界 數千家 企業 經濟 環境 社會 三大 面向 永續 評比 觀察 評比 聚焦 氣候 風險管理 因應 全球 暖化 極端 氣候災害 發生 頻率 強度 增加 金融 產業 企業 面對 氣候變遷 投融資 影響 資金 影響力 氣候變遷 人類 威脅 影響 益發 天鵝 引發 系統性 金融危機 已成 全球 共識 元大金 控以 聯合國 永續 發展 目標 SDGs 藍圖 永續 經營 卓越 績效 有目共睹 金管會 邀請 永續 金融 先行者 聯盟 肩負起 領頭 大雁 責任 引領 國內 金融機構 企業 方向 朝淨 零碳排 目標 邁進 身為 先行者 聯盟 一員 元大金控 承諾 綠色 採購 資訊 揭露 投融資 議合 協助 推廣 國際 接軌 永續 議題 展現 積極行動 發揮 金融 影響力 推展 永續 面向 深化 帶動 全體 金融業 邁向 永續 發展 面對 環境 變革 帶來 重重 挑戰 元大金 控將 氣候變遷 風險 納入 營運 決策 正視 全球 暖化 資源 耗竭 危機 依循 SBT 科學 基礎 減碳 目標 訂定 減排 策略 路徑 科學化 方式 接軌 淨零碳排 國際 趨勢 全台 亞洲 SBT 減碳 目標 審查 金融業 發布 TCFD 氣候 相關 財務 揭露 報告書 氣候 相關 資訊 揭露 透明度 永續 金融 準則 作為 發展 金融 產品 服務 準則 架構 指引 深化 經營 韌性 社會 發展 金融服務 共存共榮 體系 金融服務 支撐 經濟社會 仰賴 社會 健全 發展 元大金控 堅守 改變 力量 關懷 信念 長期 關注 社會 議題 弱勢 族群 實際行動 給予 支持 開學 前夕 萬名 受助 兒少 苦於 助學金 安心 上學 元大金控 捐贈 千萬元 公益 夥伴 基金會 拋磚引玉 兒少 求學路 點亮 一盞 溫暖 燈元 大金控 永續 發展 領域 模範生 精進 滾動式 調整 ESG 執行 方向 永續 影響 範疇 攜手 客戶 供應商 推進 永續 發展 致力 後代 推動 更好 未來\n"
          ]
        }
      ]
    },
    {
      "cell_type": "markdown",
      "source": [
        "3. jieba"
      ],
      "metadata": {
        "id": "M7MZog6FSIIK"
      }
    },
    {
      "cell_type": "code",
      "source": [
        "import jieba.analyse\n",
        "\n",
        "for x, w in jieba.analyse.textrank(' '.join(rawdata['content'].tolist()), withWeight=True):\n",
        "    print('%s %s' % (x, w))\n"
      ],
      "metadata": {
        "colab": {
          "base_uri": "https://localhost:8080/"
        },
        "id": "OcJMhqKIQub_",
        "outputId": "b1ed4b85-a45e-4aef-c0a7-5990ed380122"
      },
      "execution_count": null,
      "outputs": [
        {
          "output_type": "stream",
          "name": "stdout",
          "text": [
            "金融 1.0\n",
            "數位 0.8195260133596048\n",
            "服務 0.769852734057675\n",
            "企業 0.619376610647133\n",
            "提供 0.5479907907273435\n",
            "員工 0.5454430298968609\n",
            "創新 0.5314150783170796\n",
            "發展 0.5060642902389435\n",
            "玉山 0.5038364687665737\n",
            "基金 0.5002887786821534\n",
            "透過 0.4056447050957432\n",
            "運動 0.3804878856425931\n",
            "公司 0.32426202348338806\n",
            "體驗 0.31669178208898413\n",
            "大金 0.3152801584865475\n",
            "資訊 0.31310132900931104\n",
            "科技 0.311597137624992\n",
            "產險 0.3052874908186301\n",
            "客戶 0.2907518710660662\n",
            "保險 0.28190556641666165\n"
          ]
        }
      ]
    },
    {
      "cell_type": "code",
      "source": [
        "#--- 關鍵詞提取\n",
        "keywords1=jieba.analyse.extract_tags(' '.join(rawdata['content'].tolist()))\n",
        "print(\"/ \".join(keywords1))\n"
      ],
      "metadata": {
        "colab": {
          "base_uri": "https://localhost:8080/"
        },
        "id": "1bSVgXUeKQjn",
        "outputId": "98f29988-42c8-4912-b479-ff12586c3ca0"
      },
      "execution_count": null,
      "outputs": [
        {
          "output_type": "stream",
          "name": "stdout",
          "text": [
            "國泰/ 數位/ 服務/ 永續/ 企業/ 創新/ 員工/ 發展/ 金融/ 玉山/ 透過/ 金控/ 健康/ 運動/ 產險/ 體驗/ 資訊/ 證券/ 顧客/ 職場\n"
          ]
        }
      ]
    },
    {
      "cell_type": "code",
      "source": [
        "# topn 關鍵字\n",
        "keywords_top_esun = jieba.analyse.extract_tags(' '.join(rawdata[rawdata.label == 'esun']['content'].tolist()), # 字詞\n",
        "                                        topK=20, # 前幾名\n",
        "                                        withWeight=True)\n",
        "# 是否要計算分數\n",
        "# 背後原理應該也是 tfidf(待確認) , 跟自己做的比較在於，自己的沒有太多著墨在超參數的調整 例如正則的方法\n",
        "keywords_top_cathy = jieba.analyse.extract_tags(' '.join(rawdata[rawdata.label == 'cathy']['content'].tolist()), # 字詞\n",
        "                                        topK=20, # 前幾名\n",
        "                                        withWeight=True)\n",
        "keywords_top_yuanta = jieba.analyse.extract_tags(' '.join(rawdata[rawdata.label == 'yuanta']['content'].tolist()), # 字詞\n",
        "                                        topK=20, # 前幾名\n",
        "                                        withWeight=True)"
      ],
      "metadata": {
        "id": "tZPMAYf7lhs0"
      },
      "execution_count": null,
      "outputs": []
    },
    {
      "cell_type": "code",
      "source": [
        "JIEBA_SCORE_DF = pd.concat([\n",
        "              pd.DataFrame(keywords_top_esun,\n",
        "             columns=['玉山關鍵字', 'score']), \n",
        "             pd.DataFrame(keywords_top_cathy,\n",
        "             columns=['國泰關鍵字', 'score']), \n",
        "             pd.DataFrame(keywords_top_yuanta,\n",
        "             columns=['元大關鍵字', 'score'])],axis=1)\n",
        "\n",
        "display(JIEBA_SCORE_DF.head(20))"
      ],
      "metadata": {
        "colab": {
          "base_uri": "https://localhost:8080/",
          "height": 669
        },
        "id": "fpanqZerl2NT",
        "outputId": "abfa35bf-8f84-4290-b1b6-b14d8b6f5eef"
      },
      "execution_count": null,
      "outputs": [
        {
          "output_type": "display_data",
          "data": {
            "text/plain": [
              "   玉山關鍵字     score 國泰關鍵字  score 元大關鍵字     score\n",
              "0     玉山  0.310618   NaN    NaN    員工  0.243975\n",
              "1     顧客  0.218443   NaN    NaN    永續  0.243975\n",
              "2     數位  0.208513   NaN    NaN    企業  0.202151\n",
              "3     服務  0.139009   NaN    NaN    運動  0.174268\n",
              "4     企業  0.129080   NaN    NaN    健康  0.170472\n",
              "5     海龜  0.119151   NaN    NaN  元大金控  0.139414\n",
              "6     銀行  0.109221   NaN    NaN    職場  0.125473\n",
              "7     透過  0.089363   NaN    NaN    發展  0.125473\n",
              "8     保育  0.088080   NaN    NaN    元大  0.125473\n",
              "9     榮獲  0.079434   NaN    NaN    推動  0.097590\n",
              "10    體驗  0.079434   NaN    NaN    活動  0.097590\n",
              "11    生態  0.079434   NaN    NaN    同仁  0.094605\n",
              "12    金融  0.078499   NaN    NaN   供應商  0.083649\n",
              "13    持續  0.069504   NaN    NaN    環境  0.076678\n",
              "14    員工  0.069504   NaN    NaN    集團  0.069707\n",
              "15    永續  0.059575   NaN    NaN    人壽  0.069707\n",
              "16    現場  0.059575   NaN    NaN    課程  0.069707\n",
              "17    提供  0.054467   NaN    NaN    社會  0.069707\n",
              "18    多元  0.052026   NaN    NaN    鼓勵  0.062736\n",
              "19    優質  0.049646   NaN    NaN    參與  0.055766"
            ],
            "text/html": [
              "\n",
              "  <div id=\"df-3caa84c7-9d45-45af-962c-7f943174dc6f\">\n",
              "    <div class=\"colab-df-container\">\n",
              "      <div>\n",
              "<style scoped>\n",
              "    .dataframe tbody tr th:only-of-type {\n",
              "        vertical-align: middle;\n",
              "    }\n",
              "\n",
              "    .dataframe tbody tr th {\n",
              "        vertical-align: top;\n",
              "    }\n",
              "\n",
              "    .dataframe thead th {\n",
              "        text-align: right;\n",
              "    }\n",
              "</style>\n",
              "<table border=\"1\" class=\"dataframe\">\n",
              "  <thead>\n",
              "    <tr style=\"text-align: right;\">\n",
              "      <th></th>\n",
              "      <th>玉山關鍵字</th>\n",
              "      <th>score</th>\n",
              "      <th>國泰關鍵字</th>\n",
              "      <th>score</th>\n",
              "      <th>元大關鍵字</th>\n",
              "      <th>score</th>\n",
              "    </tr>\n",
              "  </thead>\n",
              "  <tbody>\n",
              "    <tr>\n",
              "      <th>0</th>\n",
              "      <td>玉山</td>\n",
              "      <td>0.310618</td>\n",
              "      <td>NaN</td>\n",
              "      <td>NaN</td>\n",
              "      <td>員工</td>\n",
              "      <td>0.243975</td>\n",
              "    </tr>\n",
              "    <tr>\n",
              "      <th>1</th>\n",
              "      <td>顧客</td>\n",
              "      <td>0.218443</td>\n",
              "      <td>NaN</td>\n",
              "      <td>NaN</td>\n",
              "      <td>永續</td>\n",
              "      <td>0.243975</td>\n",
              "    </tr>\n",
              "    <tr>\n",
              "      <th>2</th>\n",
              "      <td>數位</td>\n",
              "      <td>0.208513</td>\n",
              "      <td>NaN</td>\n",
              "      <td>NaN</td>\n",
              "      <td>企業</td>\n",
              "      <td>0.202151</td>\n",
              "    </tr>\n",
              "    <tr>\n",
              "      <th>3</th>\n",
              "      <td>服務</td>\n",
              "      <td>0.139009</td>\n",
              "      <td>NaN</td>\n",
              "      <td>NaN</td>\n",
              "      <td>運動</td>\n",
              "      <td>0.174268</td>\n",
              "    </tr>\n",
              "    <tr>\n",
              "      <th>4</th>\n",
              "      <td>企業</td>\n",
              "      <td>0.129080</td>\n",
              "      <td>NaN</td>\n",
              "      <td>NaN</td>\n",
              "      <td>健康</td>\n",
              "      <td>0.170472</td>\n",
              "    </tr>\n",
              "    <tr>\n",
              "      <th>5</th>\n",
              "      <td>海龜</td>\n",
              "      <td>0.119151</td>\n",
              "      <td>NaN</td>\n",
              "      <td>NaN</td>\n",
              "      <td>元大金控</td>\n",
              "      <td>0.139414</td>\n",
              "    </tr>\n",
              "    <tr>\n",
              "      <th>6</th>\n",
              "      <td>銀行</td>\n",
              "      <td>0.109221</td>\n",
              "      <td>NaN</td>\n",
              "      <td>NaN</td>\n",
              "      <td>職場</td>\n",
              "      <td>0.125473</td>\n",
              "    </tr>\n",
              "    <tr>\n",
              "      <th>7</th>\n",
              "      <td>透過</td>\n",
              "      <td>0.089363</td>\n",
              "      <td>NaN</td>\n",
              "      <td>NaN</td>\n",
              "      <td>發展</td>\n",
              "      <td>0.125473</td>\n",
              "    </tr>\n",
              "    <tr>\n",
              "      <th>8</th>\n",
              "      <td>保育</td>\n",
              "      <td>0.088080</td>\n",
              "      <td>NaN</td>\n",
              "      <td>NaN</td>\n",
              "      <td>元大</td>\n",
              "      <td>0.125473</td>\n",
              "    </tr>\n",
              "    <tr>\n",
              "      <th>9</th>\n",
              "      <td>榮獲</td>\n",
              "      <td>0.079434</td>\n",
              "      <td>NaN</td>\n",
              "      <td>NaN</td>\n",
              "      <td>推動</td>\n",
              "      <td>0.097590</td>\n",
              "    </tr>\n",
              "    <tr>\n",
              "      <th>10</th>\n",
              "      <td>體驗</td>\n",
              "      <td>0.079434</td>\n",
              "      <td>NaN</td>\n",
              "      <td>NaN</td>\n",
              "      <td>活動</td>\n",
              "      <td>0.097590</td>\n",
              "    </tr>\n",
              "    <tr>\n",
              "      <th>11</th>\n",
              "      <td>生態</td>\n",
              "      <td>0.079434</td>\n",
              "      <td>NaN</td>\n",
              "      <td>NaN</td>\n",
              "      <td>同仁</td>\n",
              "      <td>0.094605</td>\n",
              "    </tr>\n",
              "    <tr>\n",
              "      <th>12</th>\n",
              "      <td>金融</td>\n",
              "      <td>0.078499</td>\n",
              "      <td>NaN</td>\n",
              "      <td>NaN</td>\n",
              "      <td>供應商</td>\n",
              "      <td>0.083649</td>\n",
              "    </tr>\n",
              "    <tr>\n",
              "      <th>13</th>\n",
              "      <td>持續</td>\n",
              "      <td>0.069504</td>\n",
              "      <td>NaN</td>\n",
              "      <td>NaN</td>\n",
              "      <td>環境</td>\n",
              "      <td>0.076678</td>\n",
              "    </tr>\n",
              "    <tr>\n",
              "      <th>14</th>\n",
              "      <td>員工</td>\n",
              "      <td>0.069504</td>\n",
              "      <td>NaN</td>\n",
              "      <td>NaN</td>\n",
              "      <td>集團</td>\n",
              "      <td>0.069707</td>\n",
              "    </tr>\n",
              "    <tr>\n",
              "      <th>15</th>\n",
              "      <td>永續</td>\n",
              "      <td>0.059575</td>\n",
              "      <td>NaN</td>\n",
              "      <td>NaN</td>\n",
              "      <td>人壽</td>\n",
              "      <td>0.069707</td>\n",
              "    </tr>\n",
              "    <tr>\n",
              "      <th>16</th>\n",
              "      <td>現場</td>\n",
              "      <td>0.059575</td>\n",
              "      <td>NaN</td>\n",
              "      <td>NaN</td>\n",
              "      <td>課程</td>\n",
              "      <td>0.069707</td>\n",
              "    </tr>\n",
              "    <tr>\n",
              "      <th>17</th>\n",
              "      <td>提供</td>\n",
              "      <td>0.054467</td>\n",
              "      <td>NaN</td>\n",
              "      <td>NaN</td>\n",
              "      <td>社會</td>\n",
              "      <td>0.069707</td>\n",
              "    </tr>\n",
              "    <tr>\n",
              "      <th>18</th>\n",
              "      <td>多元</td>\n",
              "      <td>0.052026</td>\n",
              "      <td>NaN</td>\n",
              "      <td>NaN</td>\n",
              "      <td>鼓勵</td>\n",
              "      <td>0.062736</td>\n",
              "    </tr>\n",
              "    <tr>\n",
              "      <th>19</th>\n",
              "      <td>優質</td>\n",
              "      <td>0.049646</td>\n",
              "      <td>NaN</td>\n",
              "      <td>NaN</td>\n",
              "      <td>參與</td>\n",
              "      <td>0.055766</td>\n",
              "    </tr>\n",
              "  </tbody>\n",
              "</table>\n",
              "</div>\n",
              "      <button class=\"colab-df-convert\" onclick=\"convertToInteractive('df-3caa84c7-9d45-45af-962c-7f943174dc6f')\"\n",
              "              title=\"Convert this dataframe to an interactive table.\"\n",
              "              style=\"display:none;\">\n",
              "        \n",
              "  <svg xmlns=\"http://www.w3.org/2000/svg\" height=\"24px\"viewBox=\"0 0 24 24\"\n",
              "       width=\"24px\">\n",
              "    <path d=\"M0 0h24v24H0V0z\" fill=\"none\"/>\n",
              "    <path d=\"M18.56 5.44l.94 2.06.94-2.06 2.06-.94-2.06-.94-.94-2.06-.94 2.06-2.06.94zm-11 1L8.5 8.5l.94-2.06 2.06-.94-2.06-.94L8.5 2.5l-.94 2.06-2.06.94zm10 10l.94 2.06.94-2.06 2.06-.94-2.06-.94-.94-2.06-.94 2.06-2.06.94z\"/><path d=\"M17.41 7.96l-1.37-1.37c-.4-.4-.92-.59-1.43-.59-.52 0-1.04.2-1.43.59L10.3 9.45l-7.72 7.72c-.78.78-.78 2.05 0 2.83L4 21.41c.39.39.9.59 1.41.59.51 0 1.02-.2 1.41-.59l7.78-7.78 2.81-2.81c.8-.78.8-2.07 0-2.86zM5.41 20L4 18.59l7.72-7.72 1.47 1.35L5.41 20z\"/>\n",
              "  </svg>\n",
              "      </button>\n",
              "      \n",
              "  <style>\n",
              "    .colab-df-container {\n",
              "      display:flex;\n",
              "      flex-wrap:wrap;\n",
              "      gap: 12px;\n",
              "    }\n",
              "\n",
              "    .colab-df-convert {\n",
              "      background-color: #E8F0FE;\n",
              "      border: none;\n",
              "      border-radius: 50%;\n",
              "      cursor: pointer;\n",
              "      display: none;\n",
              "      fill: #1967D2;\n",
              "      height: 32px;\n",
              "      padding: 0 0 0 0;\n",
              "      width: 32px;\n",
              "    }\n",
              "\n",
              "    .colab-df-convert:hover {\n",
              "      background-color: #E2EBFA;\n",
              "      box-shadow: 0px 1px 2px rgba(60, 64, 67, 0.3), 0px 1px 3px 1px rgba(60, 64, 67, 0.15);\n",
              "      fill: #174EA6;\n",
              "    }\n",
              "\n",
              "    [theme=dark] .colab-df-convert {\n",
              "      background-color: #3B4455;\n",
              "      fill: #D2E3FC;\n",
              "    }\n",
              "\n",
              "    [theme=dark] .colab-df-convert:hover {\n",
              "      background-color: #434B5C;\n",
              "      box-shadow: 0px 1px 3px 1px rgba(0, 0, 0, 0.15);\n",
              "      filter: drop-shadow(0px 1px 2px rgba(0, 0, 0, 0.3));\n",
              "      fill: #FFFFFF;\n",
              "    }\n",
              "  </style>\n",
              "\n",
              "      <script>\n",
              "        const buttonEl =\n",
              "          document.querySelector('#df-3caa84c7-9d45-45af-962c-7f943174dc6f button.colab-df-convert');\n",
              "        buttonEl.style.display =\n",
              "          google.colab.kernel.accessAllowed ? 'block' : 'none';\n",
              "\n",
              "        async function convertToInteractive(key) {\n",
              "          const element = document.querySelector('#df-3caa84c7-9d45-45af-962c-7f943174dc6f');\n",
              "          const dataTable =\n",
              "            await google.colab.kernel.invokeFunction('convertToInteractive',\n",
              "                                                     [key], {});\n",
              "          if (!dataTable) return;\n",
              "\n",
              "          const docLinkHtml = 'Like what you see? Visit the ' +\n",
              "            '<a target=\"_blank\" href=https://colab.research.google.com/notebooks/data_table.ipynb>data table notebook</a>'\n",
              "            + ' to learn more about interactive tables.';\n",
              "          element.innerHTML = '';\n",
              "          dataTable['output_type'] = 'display_data';\n",
              "          await google.colab.output.renderOutput(dataTable, element);\n",
              "          const docLink = document.createElement('div');\n",
              "          docLink.innerHTML = docLinkHtml;\n",
              "          element.appendChild(docLink);\n",
              "        }\n",
              "      </script>\n",
              "    </div>\n",
              "  </div>\n",
              "  "
            ]
          },
          "metadata": {}
        }
      ]
    },
    {
      "cell_type": "markdown",
      "source": [
        "#### **step4: 以 word2vec 看關鍵字間的距離**"
      ],
      "metadata": {
        "id": "tt6LrQBi_zMW"
      }
    },
    {
      "cell_type": "code",
      "source": [
        "from gensim.models import word2vec"
      ],
      "metadata": {
        "id": "FistG_2eKQXQ"
      },
      "execution_count": null,
      "outputs": []
    },
    {
      "cell_type": "code",
      "source": [
        "content = rawdata['content']\n",
        "content = [i.split(' ') for i in content] \n",
        "'''\n",
        "transform to list of list  ex: [\n",
        "                                ['hi', 'how', 'are', 'you'], \n",
        "                                ['i', 'fine', 'thank', 'you']\n",
        "                                ]\n",
        "'''"
      ],
      "metadata": {
        "id": "13P-YzkqMw0Y",
        "colab": {
          "base_uri": "https://localhost:8080/",
          "height": 54
        },
        "outputId": "4bd5c15c-c435-428b-fbf5-9a1e0f335e89"
      },
      "execution_count": null,
      "outputs": [
        {
          "output_type": "execute_result",
          "data": {
            "text/plain": [
              "\"\\ntransform to list of list  ex: [\\n                                ['hi', 'how', 'are', 'you'], \\n                                ['i', 'fine', 'thank', 'you']\\n                                ]\\n\""
            ],
            "application/vnd.google.colaboratory.intrinsic+json": {
              "type": "string"
            }
          },
          "metadata": {},
          "execution_count": 49
        }
      ]
    },
    {
      "cell_type": "code",
      "source": [
        "word2vec_model = word2vec.Word2Vec(size=128)\n",
        "word2vec_model.build_vocab(content)\n",
        "word2vec_model.train(content, total_examples=len(content),epochs=20)"
      ],
      "metadata": {
        "id": "w00W5g-JxSNl",
        "colab": {
          "base_uri": "https://localhost:8080/"
        },
        "outputId": "8aaf195d-0de9-4dd1-f127-6e99871d7b72"
      },
      "execution_count": null,
      "outputs": [
        {
          "output_type": "stream",
          "name": "stderr",
          "text": [
            "WARNING:gensim.models.base_any2vec:under 10 jobs per worker: consider setting a smaller `batch_words' for smoother alpha decay\n"
          ]
        },
        {
          "output_type": "execute_result",
          "data": {
            "text/plain": [
              "(39448, 113340)"
            ]
          },
          "metadata": {},
          "execution_count": 50
        }
      ]
    },
    {
      "cell_type": "markdown",
      "source": [
        "跟「玉山」較接近的 10 個詞有以下這些，看起來較偏向是一些生活上因疫情而造成的轉變，像是線上支付等"
      ],
      "metadata": {
        "id": "FsheIxBAfNFb"
      }
    },
    {
      "cell_type": "code",
      "source": [
        "word2vec_model.wv.most_similar('玉山', topn=10)"
      ],
      "metadata": {
        "colab": {
          "base_uri": "https://localhost:8080/"
        },
        "id": "gDN2OZrcAWHn",
        "outputId": "73882223-6544-44be-87b4-8621e307f8a7"
      },
      "execution_count": null,
      "outputs": [
        {
          "output_type": "execute_result",
          "data": {
            "text/plain": [
              "[('提供', 0.9999040365219116),\n",
              " ('支付', 0.9998879432678223),\n",
              " ('線上', 0.9998876452445984),\n",
              " ('透過', 0.999884843826294),\n",
              " ('即可', 0.9998674988746643),\n",
              " ('推出', 0.9998663663864136),\n",
              " ('現場', 0.9998654127120972),\n",
              " ('資訊', 0.9998628497123718),\n",
              " ('%', 0.9998618364334106),\n",
              " ('', 0.9998605251312256)]"
            ]
          },
          "metadata": {},
          "execution_count": 51
        }
      ]
    },
    {
      "cell_type": "markdown",
      "source": [
        "而「國泰」則有出現信用卡，另外也一樣有線上流程生活等詞彙"
      ],
      "metadata": {
        "id": "PFWBKX0zfzba"
      }
    },
    {
      "cell_type": "code",
      "source": [
        "word2vec_model.wv.most_similar('國泰', topn=10)"
      ],
      "metadata": {
        "colab": {
          "base_uri": "https://localhost:8080/"
        },
        "id": "9GF_wsTeAWER",
        "outputId": "4fdd62b0-8431-4a58-c79a-cf43199679d1"
      },
      "execution_count": null,
      "outputs": [
        {
          "output_type": "execute_result",
          "data": {
            "text/plain": [
              "[('', 0.9998745322227478),\n",
              " ('服務', 0.9998670220375061),\n",
              " ('線上', 0.999854326248169),\n",
              " ('全球', 0.9998481869697571),\n",
              " ('透過', 0.9998476505279541),\n",
              " ('證券', 0.9998407959938049),\n",
              " ('%', 0.999835729598999),\n",
              " ('國際', 0.9998352527618408),\n",
              " ('資訊', 0.999835193157196),\n",
              " ('數位', 0.999832272529602)]"
            ]
          },
          "metadata": {},
          "execution_count": 52
        }
      ]
    },
    {
      "cell_type": "markdown",
      "source": [
        "與「元大」接近的則較偏向推動一些員工活動，以及與國際社會挑戰等詞較接近"
      ],
      "metadata": {
        "id": "pPzc2GgIgNfx"
      }
    },
    {
      "cell_type": "code",
      "source": [
        "word2vec_model.wv.most_similar('元大', topn=10)"
      ],
      "metadata": {
        "colab": {
          "base_uri": "https://localhost:8080/"
        },
        "id": "rZVHTn8cAWCi",
        "outputId": "5e834a16-a06a-4c00-e475-894b784c6871"
      },
      "execution_count": null,
      "outputs": [
        {
          "output_type": "execute_result",
          "data": {
            "text/plain": [
              "[('分享', 0.9998464584350586),\n",
              " ('活動', 0.999838650226593),\n",
              " ('員工', 0.9998368620872498),\n",
              " ('提供', 0.99983149766922),\n",
              " ('職場', 0.9998223781585693),\n",
              " ('企業', 0.999821126461029),\n",
              " ('元大金控', 0.9998184442520142),\n",
              " ('夥伴', 0.999813437461853),\n",
              " ('社團', 0.9998128414154053),\n",
              " ('工作', 0.9998127818107605)]"
            ]
          },
          "metadata": {},
          "execution_count": 53
        }
      ]
    },
    {
      "cell_type": "code",
      "source": [
        "word2vec_feature = []\n",
        "for sentence in content:\n",
        "  word2vec_feature.append(np.mean([word2vec_model.wv[word] for word in sentence if word in word2vec_model.wv], axis=0))\n",
        "word2vec_feature = np.stack(word2vec_feature)\n",
        "label = rawdata['label']"
      ],
      "metadata": {
        "id": "E7absFRCAWAi"
      },
      "execution_count": null,
      "outputs": []
    },
    {
      "cell_type": "markdown",
      "source": [
        "以 TSNE 來視覺化關鍵字之間的距離，這裡將所有關鍵字都視為變數"
      ],
      "metadata": {
        "id": "y7d7dPe2g1DC"
      }
    },
    {
      "cell_type": "code",
      "source": [
        "import numpy as np\n",
        "import matplotlib.pyplot as plt\n",
        "from sklearn import manifold, datasets\n",
        "X_tsne = manifold.TSNE(n_components=2, init='random', random_state=5, verbose=1).fit_transform(word2vec_feature)"
      ],
      "metadata": {
        "colab": {
          "base_uri": "https://localhost:8080/"
        },
        "id": "GraIkKZSpXrA",
        "outputId": "2aa77f7c-e521-4bce-d285-c88cb8e52066"
      },
      "execution_count": null,
      "outputs": [
        {
          "output_type": "stream",
          "name": "stdout",
          "text": [
            "[t-SNE] Computing 15 nearest neighbors...\n",
            "[t-SNE] Indexed 16 samples in 0.002s...\n",
            "[t-SNE] Computed neighbors for 16 samples in 0.006s...\n",
            "[t-SNE] Computed conditional probabilities for sample 16 / 16\n",
            "[t-SNE] Mean sigma: 1125899906842624.000000\n",
            "[t-SNE] KL divergence after 250 iterations with early exaggeration: 55.708485\n",
            "[t-SNE] KL divergence after 950 iterations: 0.358763\n"
          ]
        },
        {
          "output_type": "stream",
          "name": "stderr",
          "text": [
            "/usr/local/lib/python3.7/dist-packages/sklearn/manifold/_t_sne.py:793: FutureWarning: The default learning rate in TSNE will change from 200.0 to 'auto' in 1.2.\n",
            "  FutureWarning,\n"
          ]
        }
      ]
    },
    {
      "cell_type": "code",
      "source": [
        "#Data Visualization\n",
        "x_min, x_max = X_tsne.min(0), X_tsne.max(0)\n",
        "X_norm = (X_tsne - x_min) / (x_max - x_min)  #Normalize"
      ],
      "metadata": {
        "id": "B9cMlBvPpky1"
      },
      "execution_count": null,
      "outputs": []
    },
    {
      "cell_type": "code",
      "source": [
        "d = {'esun': 1,\n",
        "    'cathy': 2,\n",
        "     'yuanta': 3}\n",
        "label = label.map(d)"
      ],
      "metadata": {
        "id": "3UzcyxZeqc3b"
      },
      "execution_count": null,
      "outputs": []
    },
    {
      "cell_type": "code",
      "source": [
        "#Data Visualization\n",
        "x_min, x_max = X_tsne.min(0), X_tsne.max(0)\n",
        "X_norm = (X_tsne - x_min) / (x_max - x_min)  #Normalize\n",
        "plt.figure(figsize=(8, 8))\n",
        "for i in range(X_norm.shape[0]):\n",
        "    plt.text(X_norm[i, 0], X_norm[i, 1],\n",
        "             label[i],\n",
        "             fontdict={'weight': 'bold', 'size': 9})"
      ],
      "metadata": {
        "colab": {
          "base_uri": "https://localhost:8080/",
          "height": 490
        },
        "id": "mWqzlLzBpZ73",
        "outputId": "53f2fdab-8ab5-40ed-ec3e-b17694264e0a"
      },
      "execution_count": null,
      "outputs": [
        {
          "output_type": "display_data",
          "data": {
            "text/plain": [
              "<Figure size 576x576 with 1 Axes>"
            ],
            "image/png": "[encoded data removed]"
          },
          "metadata": {
            "needs_background": "light"
          }
        }
      ]
    }
  ]
}